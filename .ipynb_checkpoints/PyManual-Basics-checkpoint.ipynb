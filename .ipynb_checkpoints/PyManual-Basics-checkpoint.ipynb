{
 "cells": [
  {
   "cell_type": "markdown",
   "id": "971d485a",
   "metadata": {},
   "source": [
    "## 1. Introduction to Python"
   ]
  },
  {
   "cell_type": "markdown",
   "id": "cc6f6535",
   "metadata": {},
   "source": [
    "### 1.1 What is Python"
   ]
  },
  {
   "cell_type": "raw",
   "id": "7d4cd084",
   "metadata": {},
   "source": [
    "Python is a high-level programming language that is widely used in many areas, including web development, scientific computing, data analysis, artificial intelligence, and more. It was first released in 1991 and has since grown in popularity due to its simplicity, readability, and ease of use.\n",
    "\n",
    "Python is so popular in data science because of its rich ecosystem of libraries and frameworks. Some of the most widely used libraries for data analysis and scientific computing include NumPy, Pandas, Matplotlib, and Scikit-learn. \n",
    "\n",
    "These libraries make it easy to perform complex calculations, manipulate large datasets, and visualize data in meaningful ways. Another advantage of Python is its active and supportive community. There are countless online resources, forums, and communities dedicated to helping people learn Python and solve problems. Whether you are a beginner or an experienced developer, you can find answers to your questions and support from others in the Python community."
   ]
  },
  {
   "cell_type": "markdown",
   "id": "16c49b5b",
   "metadata": {},
   "source": [
    "### 1.2 Python Versions"
   ]
  },
  {
   "cell_type": "raw",
   "id": "5b12a7e5",
   "metadata": {},
   "source": [
    "The most recent version of Python as of 2021 is Python3, especially 3.10. \n",
    "However, both Python2 and Python3 are still in use. "
   ]
  },
  {
   "cell_type": "markdown",
   "id": "8128978c",
   "metadata": {},
   "source": [
    "### 1.3 How to Install Python"
   ]
  },
  {
   "cell_type": "raw",
   "id": "4e17c7ef",
   "metadata": {},
   "source": [
    "- The first option is to download and install Python directly from the official Python website here. To install Python, simply download the appropriate installer for your operating system (Windows, macOS, or Linux) from the Python website and follow the installation instructions. You can see this video for step-by-step installation. \n",
    "\n",
    "- Another option is to use a package manager. Package managers allow you to easily install and manage multiple versions of Python and packages on your system. Some popular package managers for Python include Anaconda, pip, and Homebrew."
   ]
  },
  {
   "cell_type": "markdown",
   "id": "855e339b",
   "metadata": {},
   "source": [
    "## 2. Basic Syntax"
   ]
  },
  {
   "cell_type": "markdown",
   "id": "953b7ae3",
   "metadata": {},
   "source": [
    "### 2.1 Variables"
   ]
  },
  {
   "cell_type": "raw",
   "id": "0cb199e0",
   "metadata": {},
   "source": [
    "Variables are names that store data values in memory.\n",
    "Variable naming rules:\n",
    "    - Should be short and descriptive \n",
    "    - Only letters, numbers, and under_scores \n",
    "    - Can start with letters or underscore, can not start with a number\n",
    "    - Usually under_core is used to separate composed variable names because white spaces are not allowed\n",
    "    - Can not be from the reserved python words like (print, sum, …etc)"
   ]
  },
  {
   "cell_type": "markdown",
   "id": "9e06857e",
   "metadata": {},
   "source": [
    "##### Variables are names that store values in the memory"
   ]
  },
  {
   "cell_type": "code",
   "execution_count": 2,
   "id": "aa6c5d0f",
   "metadata": {},
   "outputs": [],
   "source": [
    "# to create a variable, just write variableName = value, this example shows the value of age is equal to 25\n",
    "age = 25 "
   ]
  },
  {
   "cell_type": "code",
   "execution_count": 3,
   "id": "4e8f7edc",
   "metadata": {},
   "outputs": [
    {
     "name": "stdout",
     "output_type": "stream",
     "text": [
      "25\n"
     ]
    }
   ],
   "source": [
    "# to print the value of age on the screen, use print() function\n",
    "print(age)"
   ]
  },
  {
   "cell_type": "code",
   "execution_count": 4,
   "id": "14ec1351",
   "metadata": {},
   "outputs": [],
   "source": [
    "# to change the value of the variable, just reassign a new value to the same name\n",
    "age = 50"
   ]
  },
  {
   "cell_type": "code",
   "execution_count": 5,
   "id": "f1258bb4",
   "metadata": {},
   "outputs": [
    {
     "name": "stdout",
     "output_type": "stream",
     "text": [
      "50\n"
     ]
    }
   ],
   "source": [
    "# to see the new value of age, use print()\n",
    "print(age)"
   ]
  },
  {
   "cell_type": "markdown",
   "id": "a22fab03",
   "metadata": {},
   "source": [
    "### 2.2 Data Types"
   ]
  },
  {
   "cell_type": "raw",
   "id": "fe90c6d0",
   "metadata": {},
   "source": [
    "Data types are used to categorize different types of data that can be used in a program. The most commonly used data types include:\n",
    "    - Numbers: this data type includes \n",
    "        - integers\n",
    "        - floating-point numbers \n",
    "        - complex numbers.\n",
    "    - Strings - a sequence of characters enclosed in single or double quotes.\n",
    "    - Booleans - either True or False values. \n"
   ]
  },
  {
   "cell_type": "markdown",
   "id": "82e26716",
   "metadata": {},
   "source": [
    "#### 2.2.1 Numbers"
   ]
  },
  {
   "cell_type": "markdown",
   "id": "328b5cec",
   "metadata": {},
   "source": [
    "##### 2.2.1.1 - Integers"
   ]
  },
  {
   "cell_type": "code",
   "execution_count": 7,
   "id": "5cdb9f16",
   "metadata": {},
   "outputs": [
    {
     "name": "stdout",
     "output_type": "stream",
     "text": [
      "<class 'int'>\n"
     ]
    }
   ],
   "source": [
    "# Integers are numbers without any fractional part and can be positive.\n",
    "\n",
    "revenue = 100\n",
    "\n",
    "print(type(revenue))  # to see the data type you are using for reveneu variable, use type() function"
   ]
  },
  {
   "cell_type": "markdown",
   "id": "3155f250",
   "metadata": {},
   "source": [
    "##### 2.2.1.2 Floats"
   ]
  },
  {
   "cell_type": "code",
   "execution_count": 9,
   "id": "a01d7808",
   "metadata": {},
   "outputs": [
    {
     "name": "stdout",
     "output_type": "stream",
     "text": [
      "<class 'float'>\n"
     ]
    }
   ],
   "source": [
    "# Floats are numbers with fractional parts. They can have many numbers after decimal.\n",
    "\n",
    "total_revenue = 553.1294\n",
    "\n",
    "print(type(total_revenue))"
   ]
  },
  {
   "cell_type": "markdown",
   "id": "26dc1e94",
   "metadata": {},
   "source": [
    "#### 2.2.2 String"
   ]
  },
  {
   "cell_type": "code",
   "execution_count": 10,
   "id": "b8915eb5",
   "metadata": {},
   "outputs": [
    {
     "name": "stdout",
     "output_type": "stream",
     "text": [
      "<class 'str'>\n"
     ]
    }
   ],
   "source": [
    "# String is a sequence of characters enclosed in single or double quotes.\n",
    "\n",
    "name = \"John Dolan\"\n",
    "\n",
    "print(type(name))"
   ]
  },
  {
   "cell_type": "markdown",
   "id": "a14c6621",
   "metadata": {},
   "source": [
    "#### 2.2.3 Boolean"
   ]
  },
  {
   "cell_type": "code",
   "execution_count": 11,
   "id": "f2e7b01a",
   "metadata": {},
   "outputs": [
    {
     "name": "stdout",
     "output_type": "stream",
     "text": [
      "<class 'bool'>\n"
     ]
    }
   ],
   "source": [
    "# Boolean represent one of two values: True or False.\n",
    "\n",
    "married = True \n",
    "\n",
    "print(type(married))"
   ]
  },
  {
   "cell_type": "markdown",
   "id": "73d7b93e",
   "metadata": {},
   "source": [
    "### 2.3 Operators "
   ]
  },
  {
   "cell_type": "raw",
   "id": "444b1975",
   "metadata": {},
   "source": [
    "We can also print the value of some arithmetic operation such as:\n",
    "    addition, \n",
    "    subtraction, \n",
    "    multiplication, or division.  \n",
    "    using Math Operators"
   ]
  },
  {
   "cell_type": "code",
   "execution_count": 13,
   "id": "84e0a252",
   "metadata": {},
   "outputs": [
    {
     "name": "stdout",
     "output_type": "stream",
     "text": [
      "sum of 5 + 3 is  8\n",
      "subtraction of 1 from 6 is  5\n",
      "multiplication of 6 * 2 is  12\n",
      "division of 50 over 5 is  10.0\n"
     ]
    }
   ],
   "source": [
    "sumy = 5 + 3  # addition operation\n",
    "sub = 6 - 1   # subtraction operation\n",
    "multy = 6 * 2  # multiplication operation\n",
    "divis = 50 / 5  # divion operation\n",
    "\n",
    "print(\"sum of 5 + 3 is \",sumy)  # include the variable inside print function to print its value next to the text\n",
    "print(\"subtraction of 1 from 6 is \",sub)\n",
    "print(\"multiplication of 6 * 2 is \",multy)\n",
    "print(\"division of 50 over 5 is \",divis)"
   ]
  },
  {
   "cell_type": "markdown",
   "id": "7a7df54c",
   "metadata": {},
   "source": [
    "### 2.4 Comments"
   ]
  },
  {
   "cell_type": "code",
   "execution_count": 14,
   "id": "3892111d",
   "metadata": {},
   "outputs": [],
   "source": [
    "# comment is anything after the hash sign (#), the code does not execute what´s after #\n",
    "# we use comment to explain what the code is doing to be easily understandable"
   ]
  },
  {
   "cell_type": "markdown",
   "id": "9d4b8115",
   "metadata": {},
   "source": [
    "## 3. Control Structures"
   ]
  },
  {
   "cell_type": "markdown",
   "id": "86ecffe6",
   "metadata": {},
   "source": [
    "### 3.1 Conditional Statment "
   ]
  },
  {
   "cell_type": "raw",
   "id": "fb7cfaff",
   "metadata": {},
   "source": [
    "Conditions are statements that are either True or False. \n",
    "There are many different ways to write conditions in Python, but some of the most common ways of writing conditions just compare two different values. "
   ]
  },
  {
   "cell_type": "markdown",
   "id": "b2ae68cd",
   "metadata": {},
   "source": [
    "#### 3.1 if-else "
   ]
  },
  {
   "cell_type": "code",
   "execution_count": 1,
   "id": "cbc1833a",
   "metadata": {},
   "outputs": [
    {
     "name": "stdout",
     "output_type": "stream",
     "text": [
      "The number is even\n"
     ]
    }
   ],
   "source": [
    "num = 6\n",
    "if num % 2 == 0:  \n",
    "    # if the condition is true\n",
    "    print(\"The number is even\")\n",
    "else:   \n",
    "    # if the condition is false\n",
    "    print(\"The number is odd\")"
   ]
  },
  {
   "cell_type": "markdown",
   "id": "51191f19",
   "metadata": {},
   "source": [
    "### 3.2 Loops"
   ]
  },
  {
   "cell_type": "markdown",
   "id": "9a8b697b",
   "metadata": {},
   "source": [
    "#### 3.2.1 for loop"
   ]
  },
  {
   "cell_type": "raw",
   "id": "312daee2",
   "metadata": {},
   "source": [
    "Loops are a fundamental programming concept that allows you to execute a block of code repeatedly until a certain condition is met. In Python, there are two types of loops: for loops and while loops."
   ]
  },
  {
   "cell_type": "code",
   "execution_count": 11,
   "id": "54175ca6",
   "metadata": {},
   "outputs": [
    {
     "name": "stdout",
     "output_type": "stream",
     "text": [
      "1\n",
      "2\n",
      "3\n",
      "4\n",
      "5\n"
     ]
    }
   ],
   "source": [
    "# print the numbers from 1 to 5 using for loop\n",
    "for i in range(1, 6):\n",
    "    print(i)"
   ]
  },
  {
   "cell_type": "markdown",
   "id": "d024abbc",
   "metadata": {},
   "source": [
    "####  3.2.2 while loop"
   ]
  },
  {
   "cell_type": "code",
   "execution_count": 12,
   "id": "4a113780",
   "metadata": {},
   "outputs": [
    {
     "name": "stdout",
     "output_type": "stream",
     "text": [
      "1\n",
      "2\n",
      "3\n",
      "4\n",
      "5\n"
     ]
    }
   ],
   "source": [
    "# printing numbers from 1 to 5 using while loop\n",
    "i = 1\n",
    "while i <= 5:\n",
    "    print(i)\n",
    "    i += 1  # increase the current value of i by 1\n"
   ]
  },
  {
   "cell_type": "markdown",
   "id": "598c27ae",
   "metadata": {},
   "source": [
    "## 4. Functions"
   ]
  },
  {
   "cell_type": "markdown",
   "id": "8f69d7ce",
   "metadata": {},
   "source": [
    "### 4.1 What are functions "
   ]
  },
  {
   "cell_type": "raw",
   "id": "8144503b",
   "metadata": {},
   "source": [
    "A function is a self-contained block of code that performs a specific task or set of tasks. Functions are used to break down a program into smaller, more manageable pieces of code that can be reused throughout the program."
   ]
  },
  {
   "cell_type": "markdown",
   "id": "c963a986",
   "metadata": {},
   "source": [
    "### 4.2 Parameters and arguments"
   ]
  },
  {
   "cell_type": "raw",
   "id": "f65b5f77",
   "metadata": {},
   "source": [
    "Functions start with a header introduced by the def keyword. The indented block of code following the : is run when the function is called."
   ]
  },
  {
   "cell_type": "markdown",
   "id": "641d92ed",
   "metadata": {},
   "source": [
    "### 4.3 Returning values"
   ]
  },
  {
   "cell_type": "raw",
   "id": "e8f541f2",
   "metadata": {},
   "source": [
    "return is another keyword uniquely associated with functions. When Python encounters a return statement, it exits the function immediately, and passes the value on the right hand side to the calling context."
   ]
  },
  {
   "cell_type": "code",
   "execution_count": 19,
   "id": "3ba46a86",
   "metadata": {},
   "outputs": [
    {
     "data": {
      "text/plain": [
       "'\\ndef function_name(param1, param2, ...):\\n     # Code to be executed\\n    return result\\n'"
      ]
     },
     "execution_count": 19,
     "metadata": {},
     "output_type": "execute_result"
    }
   ],
   "source": [
    "# How to create a function\n",
    "\"\"\"\n",
    "def function_name(param1, param2, ...):\n",
    "     # Code to be executed\n",
    "    return result\n",
    "\"\"\""
   ]
  },
  {
   "cell_type": "code",
   "execution_count": 21,
   "id": "350fbfd6",
   "metadata": {},
   "outputs": [
    {
     "name": "stdout",
     "output_type": "stream",
     "text": [
      "8\n"
     ]
    }
   ],
   "source": [
    "# Adding two numbers and returning the result\n",
    "def add_numbers(num1, num2):\n",
    "    result = num1 + num2\n",
    "    return result\n",
    "\n",
    "sum = add_numbers(3, 5)\n",
    "print(sum) "
   ]
  },
  {
   "cell_type": "code",
   "execution_count": 23,
   "id": "be59eac5",
   "metadata": {},
   "outputs": [
    {
     "name": "stdout",
     "output_type": "stream",
     "text": [
      "Hello, Alice!\n",
      "Hello, Bob!\n"
     ]
    }
   ],
   "source": [
    "# Printing a greeting message\n",
    "def say_hello(name):\n",
    "    print(f\"Hello, {name}!\")\n",
    "\n",
    "say_hello(\"Alice\") \n",
    "say_hello(\"Bob\") \n"
   ]
  },
  {
   "cell_type": "markdown",
   "id": "50e406ce",
   "metadata": {},
   "source": [
    "## 5. Data Structures"
   ]
  },
  {
   "cell_type": "markdown",
   "id": "4026f0da",
   "metadata": {},
   "source": [
    "### 5.1 Lists"
   ]
  },
  {
   "cell_type": "raw",
   "id": "607df2c7",
   "metadata": {},
   "source": [
    "A list is a data structure that represents a collection of ordered elements. A list is created by enclosing a comma-separated sequence of elements inside square brackets [ ].\n",
    "\n",
    "Lists can contain any type of element, including other lists or other complex data types like dictionaries or objects."
   ]
  },
  {
   "cell_type": "code",
   "execution_count": 29,
   "id": "9e734ad3",
   "metadata": {},
   "outputs": [],
   "source": [
    "# A list represents a collection of ordered elements\n",
    "numbers = [5, 2, 9, 4, 5]"
   ]
  },
  {
   "cell_type": "code",
   "execution_count": 28,
   "id": "bebacb1e",
   "metadata": {},
   "outputs": [],
   "source": [
    "# Lists can contain any type of element, including other lists \n",
    "mixed = [1, \"hello\", 3.14, [4, 5, 6]]"
   ]
  },
  {
   "cell_type": "code",
   "execution_count": 31,
   "id": "8ac50e2e",
   "metadata": {},
   "outputs": [
    {
     "name": "stdout",
     "output_type": "stream",
     "text": [
      "hello\n"
     ]
    }
   ],
   "source": [
    "# to access an element from a list \n",
    "second_element = mixed[1]\n",
    "\n",
    "print(second_element)"
   ]
  },
  {
   "cell_type": "code",
   "execution_count": 36,
   "id": "40123940",
   "metadata": {},
   "outputs": [
    {
     "name": "stdout",
     "output_type": "stream",
     "text": [
      "[1, 'hello', 3.14, [4, 5, 6], 999]\n"
     ]
    }
   ],
   "source": [
    "# to add an element to the list\n",
    "mixed.append(999)\n",
    "\n",
    "print(mixed)"
   ]
  },
  {
   "cell_type": "code",
   "execution_count": 37,
   "id": "e713533c",
   "metadata": {},
   "outputs": [
    {
     "name": "stdout",
     "output_type": "stream",
     "text": [
      "[1, 3.14, [4, 5, 6], 999]\n"
     ]
    }
   ],
   "source": [
    "# to remove an element from the list\n",
    "mixed.remove('hello') \n",
    "\n",
    "print(mixed)"
   ]
  },
  {
   "cell_type": "code",
   "execution_count": 38,
   "id": "b5e7227a",
   "metadata": {},
   "outputs": [
    {
     "name": "stdout",
     "output_type": "stream",
     "text": [
      "[1, 3.14, [4, 5, 6]]\n"
     ]
    }
   ],
   "source": [
    "# to remove the last element from the list\n",
    "mixed.pop()\n",
    "\n",
    "print(mixed)"
   ]
  },
  {
   "cell_type": "markdown",
   "id": "86cf9e35",
   "metadata": {},
   "source": [
    "### 5.2 Tuples"
   ]
  },
  {
   "cell_type": "raw",
   "id": "a6db4cd7",
   "metadata": {},
   "source": [
    "A tuple is a data structure that represents an ordered, immutable sequence of elements. Tuples are similar to lists, but they cannot be modified once they are created.  \n",
    "\n",
    "A tuple is created by enclosing a comma-separated sequence of elements inside parentheses ( )"
   ]
  },
  {
   "cell_type": "code",
   "execution_count": 39,
   "id": "6b668b0c",
   "metadata": {},
   "outputs": [
    {
     "name": "stdout",
     "output_type": "stream",
     "text": [
      "(1, 'hello', 3.14, (4, 5, 6))\n"
     ]
    }
   ],
   "source": [
    "# Tuples can contain the same or different types of element\n",
    "numbers = (1, 2, 3, 4, 5)\n",
    "mixed = (1, \"hello\", 3.14, (4, 5, 6))\n",
    "\n",
    "print(mixed)"
   ]
  },
  {
   "cell_type": "code",
   "execution_count": 40,
   "id": "c239264e",
   "metadata": {},
   "outputs": [
    {
     "name": "stdout",
     "output_type": "stream",
     "text": [
      "3.14\n"
     ]
    }
   ],
   "source": [
    "# access individual elements of a tuple by their index\n",
    "second = mixed[2]\n",
    "\n",
    "print(second)"
   ]
  },
  {
   "cell_type": "markdown",
   "id": "9f0d9708",
   "metadata": {},
   "source": [
    "### 5.3 Sets"
   ]
  },
  {
   "cell_type": "raw",
   "id": "07198070",
   "metadata": {},
   "source": [
    "A set is a data structure that represents an unordered collection of unique elements. Sets are similar to lists and tuples, but they have no order and no duplicates.\n",
    "\n",
    "A set is created by enclosing a comma-separated sequence of elements inside curly braces { }"
   ]
  },
  {
   "cell_type": "code",
   "execution_count": 41,
   "id": "87713923",
   "metadata": {},
   "outputs": [
    {
     "name": "stdout",
     "output_type": "stream",
     "text": [
      "Set 1 is {1, 2, 3}\n",
      "Set 2 is {3, 4, 5}\n"
     ]
    }
   ],
   "source": [
    "set1 = {1, 2, 3}\n",
    "set2 = {3, 4, 5}\n",
    "print(f\"Set 1 is {set1}\")\n",
    "print(f\"Set 2 is {set2}\")"
   ]
  },
  {
   "cell_type": "code",
   "execution_count": 42,
   "id": "0c42ef89",
   "metadata": {},
   "outputs": [
    {
     "name": "stdout",
     "output_type": "stream",
     "text": [
      "{1, 2, 3, 4, 5}\n"
     ]
    }
   ],
   "source": [
    "union = set1 | set2  # elements of set1 or elements of set2\n",
    "print(union) "
   ]
  },
  {
   "cell_type": "code",
   "execution_count": 43,
   "id": "134b800d",
   "metadata": {},
   "outputs": [
    {
     "name": "stdout",
     "output_type": "stream",
     "text": [
      "{3}\n"
     ]
    }
   ],
   "source": [
    "intersection = set1 & set2  # elements of set1 and elements of set2\n",
    "print(intersection) "
   ]
  },
  {
   "cell_type": "code",
   "execution_count": 44,
   "id": "8d646c60",
   "metadata": {},
   "outputs": [
    {
     "name": "stdout",
     "output_type": "stream",
     "text": [
      "{1, 2}\n"
     ]
    }
   ],
   "source": [
    "difference = set1 - set2  # elements exist in set1 but not set2\n",
    "print(difference) "
   ]
  },
  {
   "cell_type": "markdown",
   "id": "74cc9c86",
   "metadata": {},
   "source": [
    "### 5.4 Dectionaries"
   ]
  },
  {
   "cell_type": "raw",
   "id": "8becb616",
   "metadata": {},
   "source": [
    "A dictionary is a data structure that represents a collection of key-value pairs. Dictionaries are sometimes referred to as associative arrays, hash maps, or simply maps.\n",
    "\n",
    "A dictionary is created by enclosing a comma-separated sequence of key-value pairs inside curly braces {key1: value1, key2: value2}"
   ]
  },
  {
   "cell_type": "code",
   "execution_count": 47,
   "id": "37b6f412",
   "metadata": {},
   "outputs": [
    {
     "name": "stdout",
     "output_type": "stream",
     "text": [
      "{'Alice': '555-1234', 'Bob': '555-5678', 'Charlie': '555-9012'}\n"
     ]
    }
   ],
   "source": [
    "# creating a dictionary of names and corresponding phone numbers\n",
    "phonebook = {\"Alice\": \"555-1234\",\n",
    "             \"Bob\": \"555-5678\", \n",
    "             \"Charlie\": \"555-9012\"}\n",
    "\n",
    "print(phonebook)"
   ]
  },
  {
   "cell_type": "code",
   "execution_count": 48,
   "id": "878a51c3",
   "metadata": {},
   "outputs": [
    {
     "name": "stdout",
     "output_type": "stream",
     "text": [
      "555-1234\n"
     ]
    }
   ],
   "source": [
    "# to access a value, just use its key as index\n",
    "alice_phone = phonebook[\"Alice\"]\n",
    "\n",
    "print(alice_phone) "
   ]
  },
  {
   "cell_type": "code",
   "execution_count": 49,
   "id": "a40a9615",
   "metadata": {},
   "outputs": [
    {
     "name": "stdout",
     "output_type": "stream",
     "text": [
      "{'Alice': '555-1234', 'Bob': '555-5678', 'Charlie': '555-9012', 'Dave': '555-3456'}\n"
     ]
    }
   ],
   "source": [
    "# to add new key-value pairs to a dictionary\n",
    "phonebook[\"Dave\"] = \"555-3456\"\n",
    "\n",
    "print(phonebook)"
   ]
  },
  {
   "cell_type": "code",
   "execution_count": 50,
   "id": "97c43937",
   "metadata": {},
   "outputs": [
    {
     "name": "stdout",
     "output_type": "stream",
     "text": [
      "{'Alice': '555-4321', 'Bob': '555-5678', 'Charlie': '555-9012', 'Dave': '555-3456'}\n"
     ]
    }
   ],
   "source": [
    "# to modify the values of existing keys\n",
    "phonebook[\"Alice\"] = \"555-4321\"\n",
    "\n",
    "print(phonebook)"
   ]
  },
  {
   "cell_type": "code",
   "execution_count": 52,
   "id": "fb5af028",
   "metadata": {},
   "outputs": [
    {
     "name": "stdout",
     "output_type": "stream",
     "text": [
      "Alice's phone number is 555-4321\n"
     ]
    }
   ],
   "source": [
    "# use the (in) operator to check if a key is in a dictionary\n",
    "\n",
    "if \"Alice\" in phonebook:\n",
    "    print(\"Alice's phone number is\", phonebook[\"Alice\"])\n",
    "else:\n",
    "    print(\"Alice is not in the phonebook.\")"
   ]
  },
  {
   "cell_type": "markdown",
   "id": "53d895be",
   "metadata": {},
   "source": [
    "## 6. Input and Output"
   ]
  },
  {
   "cell_type": "markdown",
   "id": "abf44af1",
   "metadata": {},
   "source": [
    "### How to get input from the user"
   ]
  },
  {
   "cell_type": "raw",
   "id": "82ad13ed",
   "metadata": {},
   "source": [
    " The input() function is used to prompt the user for an input, and their input is stored in the variable name."
   ]
  },
  {
   "cell_type": "code",
   "execution_count": null,
   "id": "e25eb3eb",
   "metadata": {},
   "outputs": [],
   "source": [
    "name = input(\"What's your name? \")"
   ]
  },
  {
   "cell_type": "markdown",
   "id": "a55adc8d",
   "metadata": {},
   "source": [
    "### How to output to the screen"
   ]
  },
  {
   "cell_type": "raw",
   "id": "7441ce7e",
   "metadata": {},
   "source": [
    "The print() function is used to output the string to the console"
   ]
  },
  {
   "cell_type": "code",
   "execution_count": null,
   "id": "0654040b",
   "metadata": {},
   "outputs": [],
   "source": [
    "print(\"Hello, \" + name + \"!\")"
   ]
  },
  {
   "cell_type": "markdown",
   "id": "930e2fdc",
   "metadata": {},
   "source": [
    "### Reading and writing to files"
   ]
  },
  {
   "cell_type": "raw",
   "id": "eb4410d9",
   "metadata": {},
   "source": [
    "you can read and write data to files using the built-in open() function"
   ]
  },
  {
   "cell_type": "raw",
   "id": "e30339c3",
   "metadata": {},
   "source": [
    "Here's an example of how to use the with statement with the open() function to read the contents of a file:"
   ]
  },
  {
   "cell_type": "code",
   "execution_count": null,
   "id": "76da850a",
   "metadata": {},
   "outputs": [],
   "source": [
    "with open(\"example.txt\", \"r\") as file:\n",
    "    content = file.read()\n",
    "    print(content)"
   ]
  },
  {
   "cell_type": "raw",
   "id": "b4d4a678",
   "metadata": {},
   "source": [
    "Here's an example of how to use the with statement with the open() function to write to a file:"
   ]
  },
  {
   "cell_type": "code",
   "execution_count": null,
   "id": "ea55cc25",
   "metadata": {},
   "outputs": [],
   "source": [
    "with open(\"example.txt\", \"w\") as file:\n",
    "    file.write(\"This is some new content.\")"
   ]
  },
  {
   "cell_type": "markdown",
   "id": "60f13fe2",
   "metadata": {},
   "source": [
    "## Modules and Packages"
   ]
  },
  {
   "cell_type": "raw",
   "id": "63d41b45",
   "metadata": {},
   "source": [
    "In Python, a module is a file containing Python code that defines variables, functions, and classes that can be used in other Python files. A package, on the other hand, is a collection of related modules that can be organized in a directory hierarchy\n",
    "\n",
    "Modules and packages allow you to organize your code into reusable components that can be shared across multiple projects. They also make it easier to manage the complexity of larger projects by breaking them down into smaller, more manageable pieces."
   ]
  },
  {
   "cell_type": "raw",
   "id": "e6b9df92",
   "metadata": {},
   "source": [
    "To use a module or package in your Python code, you first need to import it using the import statement. \n",
    "Here's an example:"
   ]
  },
  {
   "cell_type": "code",
   "execution_count": null,
   "id": "2f9bd9d9",
   "metadata": {},
   "outputs": [],
   "source": [
    "import math"
   ]
  },
  {
   "cell_type": "raw",
   "id": "d397f831",
   "metadata": {},
   "source": [
    "the import statement is used to import the math module, which contains various mathematical functions and constants.\n",
    "\n",
    "You can also import specific functions or variables from a module using the from keyword. \n",
    "Here's an example:"
   ]
  },
  {
   "cell_type": "code",
   "execution_count": null,
   "id": "5018c757",
   "metadata": {},
   "outputs": [],
   "source": [
    "from math import sqrt\n",
    "\n",
    "print(sqrt(16))"
   ]
  },
  {
   "cell_type": "markdown",
   "id": "7eb8890d",
   "metadata": {},
   "source": [
    "## Object Oriented Programming OOP"
   ]
  },
  {
   "cell_type": "markdown",
   "id": "a929bf88",
   "metadata": {},
   "source": [
    "### Classes & Objects"
   ]
  },
  {
   "cell_type": "raw",
   "id": "755c7aea",
   "metadata": {},
   "source": [
    "OOP is a programming paradigm that emphasizes the use of objects and classes to represent and manipulate data. In Python, everything is an object, and you can define your own classes to create new objects.\n",
    "\n",
    "A class is a blueprint for creating objects that share a common structure and behavior. \n",
    "\n",
    "An object is an instance of a class that has its own unique data and behavior."
   ]
  },
  {
   "cell_type": "code",
   "execution_count": null,
   "id": "dab60cce",
   "metadata": {},
   "outputs": [],
   "source": [
    "# To define a class in Python, you use the class keyword followed by the name of the class. \n",
    "class Person:\n",
    "    def __init__(self, name, age):\n",
    "        self.name = name\n",
    "        self.age = age\n",
    "    \n",
    "    def greet(self):\n",
    "        print(f\"Hello, my name is {self.name} and I'm {self.age} years old.\")"
   ]
  },
  {
   "cell_type": "raw",
   "id": "feea8a6e",
   "metadata": {},
   "source": [
    "The \"Person\" class has two attributes (name and age) and one method (greet()).\n",
    "\n",
    "The __init__() method is a special method that is called when a new object of the class is created. It initializes the name and age attributes of the object."
   ]
  },
  {
   "cell_type": "markdown",
   "id": "aba7c198",
   "metadata": {},
   "source": [
    "### Methods & Attributes"
   ]
  },
  {
   "cell_type": "raw",
   "id": "565e844e",
   "metadata": {},
   "source": [
    "Attributes are variables that are stored inside an object and hold data that is specific to that object.\n",
    "\n",
    "Methods are functions that are defined inside a class and are used to perform actions on objects of that class. "
   ]
  },
  {
   "cell_type": "code",
   "execution_count": null,
   "id": "e3d0b6d0",
   "metadata": {},
   "outputs": [],
   "source": [
    "# to see how to instinciate a class\n",
    "\n",
    "# Creating two instances of the Person class\n",
    "person1 = Person(\"Alice\", 25)\n",
    "person2 = Person(\"Bob\", 30)\n",
    "\n",
    "# Calling the greet method on each instance\n",
    "person1.greet()\n",
    "person2.greet()"
   ]
  },
  {
   "cell_type": "raw",
   "id": "0bec1876",
   "metadata": {},
   "source": [
    "In this example, two instances of the Person class are created: \n",
    "person1 with the name \"Alice\" and age 25, \n",
    "and person2 with the name \"Bob\" and age 30. \n",
    "\n",
    "The greet() method is then called on each instance, which outputs a message to the console introducing each person."
   ]
  },
  {
   "cell_type": "markdown",
   "id": "c7cb63b3",
   "metadata": {},
   "source": [
    "### Inheritance"
   ]
  },
  {
   "cell_type": "raw",
   "id": "ce208abc",
   "metadata": {},
   "source": [
    "Inheritance is a mechanism in OOP that allows you to create a new class by extending an existing class. \n",
    "\n",
    "The new class, called the subclass or derived class, inherits all the attributes and methods of the base class or superclass."
   ]
  },
  {
   "cell_type": "code",
   "execution_count": null,
   "id": "88f9b35f",
   "metadata": {},
   "outputs": [],
   "source": [
    "class Student(Person):\n",
    "    def __init__(self, name, age, major):\n",
    "        super().__init__(name, age)\n",
    "        self.major = major\n",
    "    \n",
    "    def study(self):\n",
    "        print(f\"I'm studying {self.major}!\")"
   ]
  },
  {
   "cell_type": "raw",
   "id": "b8815577",
   "metadata": {},
   "source": [
    "In this example, the Student class is a subclass of the Person class. \n",
    "It has all the attributes and methods of the Person class, plus a new attribute (major) and a new method (study())"
   ]
  },
  {
   "cell_type": "raw",
   "id": "149b44c7",
   "metadata": {},
   "source": [
    "The super() function is used to call the __init__() method of the superclass and initialize the name and age attributes of the object. \n",
    "\n",
    "The study() method is used to output a message indicating what the student is studying."
   ]
  },
  {
   "cell_type": "code",
   "execution_count": null,
   "id": "f4cb39d5",
   "metadata": {},
   "outputs": [],
   "source": [
    "# Creating two instances of the Student class\n",
    "student1 = Student(\"Alice\", 25, \"Computer Science\")\n",
    "student2 = Student(\"Bob\", 30, \"Engineering\")\n",
    "\n",
    "# Calling the greet (from Person class) and study (from Student class) methods on each instance\n",
    "student1.greet()\n",
    "student1.study()\n",
    "\n",
    "student2.greet()\n",
    "student2.study() "
   ]
  },
  {
   "cell_type": "code",
   "execution_count": null,
   "id": "5719e7fd",
   "metadata": {},
   "outputs": [],
   "source": []
  }
 ],
 "metadata": {
  "kernelspec": {
   "display_name": "Python 3 (ipykernel)",
   "language": "python",
   "name": "python3"
  },
  "language_info": {
   "codemirror_mode": {
    "name": "ipython",
    "version": 3
   },
   "file_extension": ".py",
   "mimetype": "text/x-python",
   "name": "python",
   "nbconvert_exporter": "python",
   "pygments_lexer": "ipython3",
   "version": "3.10.8"
  }
 },
 "nbformat": 4,
 "nbformat_minor": 5
}
