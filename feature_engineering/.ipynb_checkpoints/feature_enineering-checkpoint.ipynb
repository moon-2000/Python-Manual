{
 "cells": [
  {
   "cell_type": "raw",
   "id": "e70600f1-8f4e-4b33-bfa7-dd3bde61b9e1",
   "metadata": {},
   "source": [
    "Feature engineering is the process of transforming raw data into features that can be used as inputs to a machine learning algorithm. \n",
    "\n",
    "The goal of feature engineering is to extract relevant and useful information from the data that will improve the performance of a machine learning model."
   ]
  },
  {
   "cell_type": "raw",
   "id": "faa4451f-766f-49f2-a5b6-38d737b78135",
   "metadata": {},
   "source": [
    "Feature engineering involves a combination of domain knowledge, statistical analysis, and creativity. Some common techniques used in feature engineering include:\n",
    "\n",
    "    - Feature scaling: Scaling the features to a similar range can help improve the performance of many machine learning algorithms.\n",
    "\n",
    "    - Feature extraction: transforming the raw data into new features that are more informative and relevant for the problem at hand using a technique like principal component analysis (PCA), wavelet transforms, and Fourier transforms.\n",
    "\n",
    "    - Feature selection: This involves selecting a subset of the original features that are most relevant to the problem to reduce the dimensionality of the data.\n",
    "\n",
    "    - Feature transformation: This involves transforming the data in a way that highlights certain patterns or relationships. Examples of feature transformation techniques include logarithmic and exponential transformations.\n",
    "\n",
    "    - Feature combination: This involves combining multiple features to create a new, more informative feature. Examples of feature combination techniques include creating interaction terms, polynomial features, and binning."
   ]
  },
  {
   "cell_type": "raw",
   "id": "462a1431-f52f-4e46-8a70-68444487ec58",
   "metadata": {},
   "source": [
    "The process of feature engineering is iterative and often involves trial and error. It is important to balance the amount of domain knowledge used in feature engineering with the ability to generalize the model to new data. \n",
    "\n",
    "Well-engineered features can significantly improve the performance of a machine learning model and are a critical component of many successful machine learning systems."
   ]
  },
  {
   "cell_type": "raw",
   "id": "7571c60d-1bcf-4d8b-9dc9-0285656e62fe",
   "metadata": {},
   "source": [
    "Let´s take a feature engineering example on Titanic Dataset"
   ]
  },
  {
   "cell_type": "markdown",
   "id": "352df03a-a7f4-4167-8077-c78111716646",
   "metadata": {},
   "source": [
    "### Import the required libraries"
   ]
  },
  {
   "cell_type": "code",
   "execution_count": 42,
   "id": "5582983f-ce5e-492f-bc2b-fef6aeced5f4",
   "metadata": {
    "tags": []
   },
   "outputs": [],
   "source": [
    "import numpy as np\n",
    "import pandas as pd\n",
    "import matplotlib.pyplot as plt\n",
    "import seaborn as sns\n",
    "sns.set()\n",
    "\n",
    "from sklearn.model_selection import train_test_split\n",
    "from sklearn.linear_model import LinearRegression\n",
    "from sklearn.metrics import mean_squared_error\n",
    "\n",
    "from sklearn.ensemble import RandomForestClassifier\n",
    "from sklearn.metrics import roc_curve, auc\n",
    "from sklearn.model_selection import StratifiedKFold\n",
    "from sklearn.preprocessing import OneHotEncoder, LabelEncoder, StandardScaler\n",
    "\n",
    "import warnings\n",
    "warnings.filterwarnings('ignore')\n",
    "\n",
    "import string\n",
    "import warnings\n",
    "warnings.filterwarnings('ignore')"
   ]
  },
  {
   "cell_type": "markdown",
   "id": "31c36038-f4af-4ef7-b157-0b301b9a005c",
   "metadata": {},
   "source": [
    "### Load the dataset"
   ]
  },
  {
   "cell_type": "code",
   "execution_count": 43,
   "id": "b3f29ff6-e94a-4e9b-a94d-1763479d2c1c",
   "metadata": {
    "tags": []
   },
   "outputs": [
    {
     "data": {
      "text/html": [
       "<div>\n",
       "<style scoped>\n",
       "    .dataframe tbody tr th:only-of-type {\n",
       "        vertical-align: middle;\n",
       "    }\n",
       "\n",
       "    .dataframe tbody tr th {\n",
       "        vertical-align: top;\n",
       "    }\n",
       "\n",
       "    .dataframe thead th {\n",
       "        text-align: right;\n",
       "    }\n",
       "</style>\n",
       "<table border=\"1\" class=\"dataframe\">\n",
       "  <thead>\n",
       "    <tr style=\"text-align: right;\">\n",
       "      <th></th>\n",
       "      <th>PassengerId</th>\n",
       "      <th>Survived</th>\n",
       "      <th>Pclass</th>\n",
       "      <th>Name</th>\n",
       "      <th>Sex</th>\n",
       "      <th>Age</th>\n",
       "      <th>SibSp</th>\n",
       "      <th>Parch</th>\n",
       "      <th>Ticket</th>\n",
       "      <th>Fare</th>\n",
       "      <th>Cabin</th>\n",
       "      <th>Embarked</th>\n",
       "    </tr>\n",
       "  </thead>\n",
       "  <tbody>\n",
       "    <tr>\n",
       "      <th>0</th>\n",
       "      <td>892</td>\n",
       "      <td>0</td>\n",
       "      <td>3</td>\n",
       "      <td>Kelly, Mr. James</td>\n",
       "      <td>male</td>\n",
       "      <td>34.5</td>\n",
       "      <td>0</td>\n",
       "      <td>0</td>\n",
       "      <td>330911</td>\n",
       "      <td>7.8292</td>\n",
       "      <td>NaN</td>\n",
       "      <td>Q</td>\n",
       "    </tr>\n",
       "    <tr>\n",
       "      <th>1</th>\n",
       "      <td>893</td>\n",
       "      <td>1</td>\n",
       "      <td>3</td>\n",
       "      <td>Wilkes, Mrs. James (Ellen Needs)</td>\n",
       "      <td>female</td>\n",
       "      <td>47.0</td>\n",
       "      <td>1</td>\n",
       "      <td>0</td>\n",
       "      <td>363272</td>\n",
       "      <td>7.0000</td>\n",
       "      <td>NaN</td>\n",
       "      <td>S</td>\n",
       "    </tr>\n",
       "    <tr>\n",
       "      <th>2</th>\n",
       "      <td>894</td>\n",
       "      <td>0</td>\n",
       "      <td>2</td>\n",
       "      <td>Myles, Mr. Thomas Francis</td>\n",
       "      <td>male</td>\n",
       "      <td>62.0</td>\n",
       "      <td>0</td>\n",
       "      <td>0</td>\n",
       "      <td>240276</td>\n",
       "      <td>9.6875</td>\n",
       "      <td>NaN</td>\n",
       "      <td>Q</td>\n",
       "    </tr>\n",
       "    <tr>\n",
       "      <th>3</th>\n",
       "      <td>895</td>\n",
       "      <td>0</td>\n",
       "      <td>3</td>\n",
       "      <td>Wirz, Mr. Albert</td>\n",
       "      <td>male</td>\n",
       "      <td>27.0</td>\n",
       "      <td>0</td>\n",
       "      <td>0</td>\n",
       "      <td>315154</td>\n",
       "      <td>8.6625</td>\n",
       "      <td>NaN</td>\n",
       "      <td>S</td>\n",
       "    </tr>\n",
       "    <tr>\n",
       "      <th>4</th>\n",
       "      <td>896</td>\n",
       "      <td>1</td>\n",
       "      <td>3</td>\n",
       "      <td>Hirvonen, Mrs. Alexander (Helga E Lindqvist)</td>\n",
       "      <td>female</td>\n",
       "      <td>22.0</td>\n",
       "      <td>1</td>\n",
       "      <td>1</td>\n",
       "      <td>3101298</td>\n",
       "      <td>12.2875</td>\n",
       "      <td>NaN</td>\n",
       "      <td>S</td>\n",
       "    </tr>\n",
       "  </tbody>\n",
       "</table>\n",
       "</div>"
      ],
      "text/plain": [
       "   PassengerId  Survived  Pclass   \n",
       "0          892         0       3  \\\n",
       "1          893         1       3   \n",
       "2          894         0       2   \n",
       "3          895         0       3   \n",
       "4          896         1       3   \n",
       "\n",
       "                                           Name     Sex   Age  SibSp  Parch   \n",
       "0                              Kelly, Mr. James    male  34.5      0      0  \\\n",
       "1              Wilkes, Mrs. James (Ellen Needs)  female  47.0      1      0   \n",
       "2                     Myles, Mr. Thomas Francis    male  62.0      0      0   \n",
       "3                              Wirz, Mr. Albert    male  27.0      0      0   \n",
       "4  Hirvonen, Mrs. Alexander (Helga E Lindqvist)  female  22.0      1      1   \n",
       "\n",
       "    Ticket     Fare Cabin Embarked  \n",
       "0   330911   7.8292   NaN        Q  \n",
       "1   363272   7.0000   NaN        S  \n",
       "2   240276   9.6875   NaN        Q  \n",
       "3   315154   8.6625   NaN        S  \n",
       "4  3101298  12.2875   NaN        S  "
      ]
     },
     "execution_count": 43,
     "metadata": {},
     "output_type": "execute_result"
    }
   ],
   "source": [
    "df = pd.read_csv('dataset/tested.csv')\n",
    "df.head()"
   ]
  },
  {
   "cell_type": "markdown",
   "id": "d6ce9877-cf61-4ee3-b82f-20b7c3b3f324",
   "metadata": {},
   "source": [
    "### Explore the data"
   ]
  },
  {
   "cell_type": "code",
   "execution_count": 44,
   "id": "4b297b31-c55c-4a53-a196-1062ad4ceed0",
   "metadata": {},
   "outputs": [
    {
     "name": "stdout",
     "output_type": "stream",
     "text": [
      "<class 'pandas.core.frame.DataFrame'>\n",
      "RangeIndex: 418 entries, 0 to 417\n",
      "Data columns (total 12 columns):\n",
      " #   Column       Non-Null Count  Dtype  \n",
      "---  ------       --------------  -----  \n",
      " 0   PassengerId  418 non-null    int64  \n",
      " 1   Survived     418 non-null    int64  \n",
      " 2   Pclass       418 non-null    int64  \n",
      " 3   Name         418 non-null    object \n",
      " 4   Sex          418 non-null    object \n",
      " 5   Age          332 non-null    float64\n",
      " 6   SibSp        418 non-null    int64  \n",
      " 7   Parch        418 non-null    int64  \n",
      " 8   Ticket       418 non-null    object \n",
      " 9   Fare         417 non-null    float64\n",
      " 10  Cabin        91 non-null     object \n",
      " 11  Embarked     418 non-null    object \n",
      "dtypes: float64(2), int64(5), object(5)\n",
      "memory usage: 39.3+ KB\n"
     ]
    }
   ],
   "source": [
    "df.info()"
   ]
  },
  {
   "cell_type": "raw",
   "id": "e12f3638-0687-415f-bcb0-4e859d7a883f",
   "metadata": {},
   "source": [
    "PassengerId: A unique identifier for each passenger. It doesn't have any effect on the target variable. \n",
    "\n",
    "Survived is: The target variable we are trying to predict (0 or 1):\n",
    "    1 = Survived\n",
    "    0 = Not Survived\n",
    "\n",
    "Pclass (Passenger Class) is: The socio-economic status of the passenger. It is an ordinal categorical feature with three values(1, 2 or 3):\n",
    "    1 = Upper Class\n",
    "    2 = Middle Class\n",
    "    3 = Lower Class\n",
    "    \n",
    "Name, Sex and Age are self-explanatory\n",
    "    \n",
    "SibSp is: The total number of the passengers' siblings and spouse\n",
    "    \n",
    "Parch is: The total number of the passengers' parents and children\n",
    "\n",
    "Ticket is: The ticket number of the passenger\n",
    "    \n",
    "Fare is: The fare or ticket price paid by the passenger.\n",
    "\n",
    "Cabin is: the cabin number of the passenger\n",
    "\n",
    "Embarked is: The port of embarkation for the passenger. It is a categorical feature with three values(C, Q or S):\n",
    "    C = Cherbourg\n",
    "    Q = Queenstown\n",
    "    S = Southampton"
   ]
  },
  {
   "cell_type": "markdown",
   "id": "993fc60c-4fcc-469f-bebe-9a62a27d211f",
   "metadata": {},
   "source": [
    "### Handle missing values"
   ]
  },
  {
   "cell_type": "code",
   "execution_count": 45,
   "id": "bc22b286-2645-4bc9-85c9-4993a5fcde23",
   "metadata": {},
   "outputs": [
    {
     "data": {
      "text/plain": [
       "PassengerId      0\n",
       "Survived         0\n",
       "Pclass           0\n",
       "Name             0\n",
       "Sex              0\n",
       "Age             86\n",
       "SibSp            0\n",
       "Parch            0\n",
       "Ticket           0\n",
       "Fare             1\n",
       "Cabin          327\n",
       "Embarked         0\n",
       "dtype: int64"
      ]
     },
     "execution_count": 45,
     "metadata": {},
     "output_type": "execute_result"
    }
   ],
   "source": [
    "# Check for missing values\n",
    "missing_values = df.isnull().sum()\n",
    "missing_values"
   ]
  },
  {
   "cell_type": "raw",
   "id": "2dd593aa-3548-4de1-9668-c74a78659149",
   "metadata": {},
   "source": [
    "We have three features with missing values: Age, Fare, and Cabin."
   ]
  },
  {
   "cell_type": "markdown",
   "id": "809cf509-ba17-412a-ab09-9a91090beade",
   "metadata": {},
   "source": [
    "#### Age missing values"
   ]
  },
  {
   "cell_type": "raw",
   "id": "461389b2-900f-472d-9cae-1df28dd578b2",
   "metadata": {
    "tags": []
   },
   "source": [
    "To fill missing values of the Age feature, we should find its correlation to other features to fill accordingly. "
   ]
  },
  {
   "cell_type": "code",
   "execution_count": 46,
   "id": "e7e5d795-4fc4-43ce-a522-04e5d3160482",
   "metadata": {},
   "outputs": [
    {
     "data": {
      "text/html": [
       "<div>\n",
       "<style scoped>\n",
       "    .dataframe tbody tr th:only-of-type {\n",
       "        vertical-align: middle;\n",
       "    }\n",
       "\n",
       "    .dataframe tbody tr th {\n",
       "        vertical-align: top;\n",
       "    }\n",
       "\n",
       "    .dataframe thead th {\n",
       "        text-align: right;\n",
       "    }\n",
       "</style>\n",
       "<table border=\"1\" class=\"dataframe\">\n",
       "  <thead>\n",
       "    <tr style=\"text-align: right;\">\n",
       "      <th></th>\n",
       "      <th>Feature 1</th>\n",
       "      <th>Feature 2</th>\n",
       "      <th>Correlation Coefficient</th>\n",
       "    </tr>\n",
       "  </thead>\n",
       "  <tbody>\n",
       "    <tr>\n",
       "      <th>5</th>\n",
       "      <td>Age</td>\n",
       "      <td>Age</td>\n",
       "      <td>1.000000</td>\n",
       "    </tr>\n",
       "    <tr>\n",
       "      <th>10</th>\n",
       "      <td>Age</td>\n",
       "      <td>Pclass</td>\n",
       "      <td>0.492143</td>\n",
       "    </tr>\n",
       "    <tr>\n",
       "      <th>12</th>\n",
       "      <td>Age</td>\n",
       "      <td>Fare</td>\n",
       "      <td>0.337932</td>\n",
       "    </tr>\n",
       "    <tr>\n",
       "      <th>28</th>\n",
       "      <td>Age</td>\n",
       "      <td>SibSp</td>\n",
       "      <td>0.091587</td>\n",
       "    </tr>\n",
       "    <tr>\n",
       "      <th>30</th>\n",
       "      <td>Age</td>\n",
       "      <td>Parch</td>\n",
       "      <td>0.061249</td>\n",
       "    </tr>\n",
       "    <tr>\n",
       "      <th>34</th>\n",
       "      <td>Age</td>\n",
       "      <td>PassengerId</td>\n",
       "      <td>0.034102</td>\n",
       "    </tr>\n",
       "    <tr>\n",
       "      <th>47</th>\n",
       "      <td>Age</td>\n",
       "      <td>Survived</td>\n",
       "      <td>0.000013</td>\n",
       "    </tr>\n",
       "  </tbody>\n",
       "</table>\n",
       "</div>"
      ],
      "text/plain": [
       "   Feature 1    Feature 2  Correlation Coefficient\n",
       "5        Age          Age                 1.000000\n",
       "10       Age       Pclass                 0.492143\n",
       "12       Age         Fare                 0.337932\n",
       "28       Age        SibSp                 0.091587\n",
       "30       Age        Parch                 0.061249\n",
       "34       Age  PassengerId                 0.034102\n",
       "47       Age     Survived                 0.000013"
      ]
     },
     "execution_count": 46,
     "metadata": {},
     "output_type": "execute_result"
    }
   ],
   "source": [
    "numeric_data = df[[\"PassengerId\", \"Survived\", \"Pclass\", \"Age\", \"SibSp\", \"Parch\", \"Fare\"]]  # chossing only columns with numerica data\n",
    "\n",
    "age_all_corr = numeric_data.corr().abs().unstack().sort_values(kind=\"quicksort\", ascending=False).reset_index()  # calculate the correlation between age and numerical columns\n",
    "\n",
    "age_all_corr.rename(columns={\"level_0\": \"Feature 1\", \"level_1\": \"Feature 2\", 0: 'Correlation Coefficient'}, inplace=True)\n",
    "age_all_corr[age_all_corr['Feature 1'] == 'Age']"
   ]
  },
  {
   "cell_type": "raw",
   "id": "4e95fb0e-8ae7-4580-8f82-4dd7c4d4d32a",
   "metadata": {
    "tags": []
   },
   "source": [
    "Missing values in the \"Age\" column are replaced with the median age of passengers belonging to the same passenger class (\"Pclass\"). \n",
    "\n",
    "This approach is preferred due to the strong correlation between age and passenger class (0.492), as well as age and Fare (0.338). \n",
    "\n",
    "Instead of using the overall median age, grouping ages by passenger class allows for a more accurate and logical imputation method."
   ]
  },
  {
   "cell_type": "code",
   "execution_count": 47,
   "id": "ebe07089-000e-4df6-9653-4ec075f53806",
   "metadata": {
    "tags": []
   },
   "outputs": [
    {
     "name": "stdout",
     "output_type": "stream",
     "text": [
      "Median age of Pclass 1 female: 41.0\n",
      "Median age of Pclass 1 male: 42.0\n",
      "Median age of Pclass 2 female: 24.0\n",
      "Median age of Pclass 2 male: 28.0\n",
      "Median age of Pclass 3 female: 22.0\n",
      "Median age of Pclass 3 male: 24.0\n",
      "Median age of all passengers: 25.0\n"
     ]
    }
   ],
   "source": [
    "import pandas as pd\n",
    "\n",
    "try:\n",
    "    # Replace non-numeric values in the 'Age' column with NaN\n",
    "    df['Age'] = pd.to_numeric(df['Age'], errors='coerce')\n",
    "\n",
    "    # Reset the index of the DataFrame\n",
    "    df = df.reset_index(drop=True)\n",
    "\n",
    "    # Calculate the median age by sex and passenger class\n",
    "    age_by_pclass_sex = df.groupby(['Sex', 'Pclass'])['Age'].median()\n",
    "\n",
    "    # Print the median age for each combination of sex and passenger class\n",
    "    for pclass in range(1, 4):\n",
    "        for sex in ['female', 'male']:\n",
    "            median_age = age_by_pclass_sex[sex][pclass]\n",
    "            print('Median age of Pclass {} {}: {}'.format(pclass, sex, median_age))\n",
    "\n",
    "    # Fill the missing values in \"Age\" with the medians of the \"Sex\" and \"Pclass\" groups\n",
    "    df['Age'] = df.groupby(['Sex', 'Pclass'])['Age'].transform(lambda x: x.fillna(x.median()))\n",
    "\n",
    "    # Print the median age of all passengers\n",
    "    median_age_all = df['Age'].median()\n",
    "    print('Median age of all passengers: {}'.format(median_age_all))\n",
    "\n",
    "except Exception as e:\n",
    "    print(\"An error occurred:\", str(e))\n",
    "\n"
   ]
  },
  {
   "cell_type": "code",
   "execution_count": 48,
   "id": "00e7a688-26e6-4921-af73-e5c8d7b64e7b",
   "metadata": {
    "tags": []
   },
   "outputs": [
    {
     "data": {
      "text/plain": [
       "PassengerId      0\n",
       "Survived         0\n",
       "Pclass           0\n",
       "Name             0\n",
       "Sex              0\n",
       "Age              0\n",
       "SibSp            0\n",
       "Parch            0\n",
       "Ticket           0\n",
       "Fare             1\n",
       "Cabin          327\n",
       "Embarked         0\n",
       "dtype: int64"
      ]
     },
     "execution_count": 48,
     "metadata": {},
     "output_type": "execute_result"
    }
   ],
   "source": [
    "df.isnull().sum()"
   ]
  },
  {
   "cell_type": "markdown",
   "id": "ac73f740-c5b7-48f4-9515-021891c24f6d",
   "metadata": {},
   "source": [
    "#### Fare missing values"
   ]
  },
  {
   "cell_type": "raw",
   "id": "4911ded8-c9ab-41f6-a6c7-89a64b2e38b0",
   "metadata": {},
   "source": [
    "Since we have only one missingvalue in Fare column, we can simply remove it. Instead here, we will fill it with the appropriate feature median."
   ]
  },
  {
   "cell_type": "code",
   "execution_count": 49,
   "id": "0754743e-d0e0-4364-9509-b0fdc0696e45",
   "metadata": {
    "tags": []
   },
   "outputs": [
    {
     "data": {
      "text/html": [
       "<div>\n",
       "<style scoped>\n",
       "    .dataframe tbody tr th:only-of-type {\n",
       "        vertical-align: middle;\n",
       "    }\n",
       "\n",
       "    .dataframe tbody tr th {\n",
       "        vertical-align: top;\n",
       "    }\n",
       "\n",
       "    .dataframe thead th {\n",
       "        text-align: right;\n",
       "    }\n",
       "</style>\n",
       "<table border=\"1\" class=\"dataframe\">\n",
       "  <thead>\n",
       "    <tr style=\"text-align: right;\">\n",
       "      <th></th>\n",
       "      <th>PassengerId</th>\n",
       "      <th>Survived</th>\n",
       "      <th>Pclass</th>\n",
       "      <th>Name</th>\n",
       "      <th>Sex</th>\n",
       "      <th>Age</th>\n",
       "      <th>SibSp</th>\n",
       "      <th>Parch</th>\n",
       "      <th>Ticket</th>\n",
       "      <th>Fare</th>\n",
       "      <th>Cabin</th>\n",
       "      <th>Embarked</th>\n",
       "    </tr>\n",
       "  </thead>\n",
       "  <tbody>\n",
       "    <tr>\n",
       "      <th>152</th>\n",
       "      <td>1044</td>\n",
       "      <td>0</td>\n",
       "      <td>3</td>\n",
       "      <td>Storey, Mr. Thomas</td>\n",
       "      <td>male</td>\n",
       "      <td>60.5</td>\n",
       "      <td>0</td>\n",
       "      <td>0</td>\n",
       "      <td>3701</td>\n",
       "      <td>NaN</td>\n",
       "      <td>NaN</td>\n",
       "      <td>S</td>\n",
       "    </tr>\n",
       "  </tbody>\n",
       "</table>\n",
       "</div>"
      ],
      "text/plain": [
       "     PassengerId  Survived  Pclass                Name   Sex   Age  SibSp   \n",
       "152         1044         0       3  Storey, Mr. Thomas  male  60.5      0  \\\n",
       "\n",
       "     Parch Ticket  Fare Cabin Embarked  \n",
       "152      0   3701   NaN   NaN        S  "
      ]
     },
     "execution_count": 49,
     "metadata": {},
     "output_type": "execute_result"
    }
   ],
   "source": [
    "df[ df['Fare'].isnull() ]"
   ]
  },
  {
   "cell_type": "code",
   "execution_count": 50,
   "id": "467c047f-0647-46f9-a106-33128a36b13c",
   "metadata": {},
   "outputs": [
    {
     "data": {
      "text/html": [
       "<div>\n",
       "<style scoped>\n",
       "    .dataframe tbody tr th:only-of-type {\n",
       "        vertical-align: middle;\n",
       "    }\n",
       "\n",
       "    .dataframe tbody tr th {\n",
       "        vertical-align: top;\n",
       "    }\n",
       "\n",
       "    .dataframe thead th {\n",
       "        text-align: right;\n",
       "    }\n",
       "</style>\n",
       "<table border=\"1\" class=\"dataframe\">\n",
       "  <thead>\n",
       "    <tr style=\"text-align: right;\">\n",
       "      <th></th>\n",
       "      <th>Feature 1</th>\n",
       "      <th>Feature 2</th>\n",
       "      <th>Correlation Coefficient</th>\n",
       "    </tr>\n",
       "  </thead>\n",
       "  <tbody>\n",
       "    <tr>\n",
       "      <th>6</th>\n",
       "      <td>Fare</td>\n",
       "      <td>Fare</td>\n",
       "      <td>1.000000</td>\n",
       "    </tr>\n",
       "    <tr>\n",
       "      <th>7</th>\n",
       "      <td>Fare</td>\n",
       "      <td>Pclass</td>\n",
       "      <td>0.577147</td>\n",
       "    </tr>\n",
       "    <tr>\n",
       "      <th>11</th>\n",
       "      <td>Fare</td>\n",
       "      <td>Age</td>\n",
       "      <td>0.353408</td>\n",
       "    </tr>\n",
       "    <tr>\n",
       "      <th>15</th>\n",
       "      <td>Fare</td>\n",
       "      <td>Parch</td>\n",
       "      <td>0.230046</td>\n",
       "    </tr>\n",
       "    <tr>\n",
       "      <th>18</th>\n",
       "      <td>Fare</td>\n",
       "      <td>Survived</td>\n",
       "      <td>0.191514</td>\n",
       "    </tr>\n",
       "    <tr>\n",
       "      <th>19</th>\n",
       "      <td>Fare</td>\n",
       "      <td>SibSp</td>\n",
       "      <td>0.171539</td>\n",
       "    </tr>\n",
       "    <tr>\n",
       "      <th>41</th>\n",
       "      <td>Fare</td>\n",
       "      <td>PassengerId</td>\n",
       "      <td>0.008211</td>\n",
       "    </tr>\n",
       "  </tbody>\n",
       "</table>\n",
       "</div>"
      ],
      "text/plain": [
       "   Feature 1    Feature 2  Correlation Coefficient\n",
       "6       Fare         Fare                 1.000000\n",
       "7       Fare       Pclass                 0.577147\n",
       "11      Fare          Age                 0.353408\n",
       "15      Fare        Parch                 0.230046\n",
       "18      Fare     Survived                 0.191514\n",
       "19      Fare        SibSp                 0.171539\n",
       "41      Fare  PassengerId                 0.008211"
      ]
     },
     "execution_count": 50,
     "metadata": {},
     "output_type": "execute_result"
    }
   ],
   "source": [
    "numeric_data = df[[\"PassengerId\", \"Survived\", \"Pclass\", \"Age\", \"SibSp\", \"Parch\", \"Fare\"]]  # chossing only columns with numerica data\n",
    "\n",
    "fare_all_corr = numeric_data.corr().abs().unstack().sort_values(kind=\"quicksort\", ascending=False).reset_index()  # calculate the correlation between age and numerical columns\n",
    "\n",
    "fare_all_corr.rename(columns={\"level_0\": \"Feature 1\", \"level_1\": \"Feature 2\", 0: 'Correlation Coefficient'}, inplace=True)\n",
    "fare_all_corr[fare_all_corr['Feature 1'] == 'Fare']"
   ]
  },
  {
   "cell_type": "markdown",
   "id": "3908dfa8-dbf3-4ef7-a23d-044a8fc2d296",
   "metadata": {},
   "source": [
    "Missing values in the \"Fare\" column are replaced with the median age of passengers belonging to the same passenger class (\"Pclass\"). \n",
    "\n",
    "This approach is preferred due to the strong correlation between Fare and passenger class (0.577), as well as Fare and age (0.338). \n",
    "\n",
    "Instead of using the overall median fare, grouping fare by passenger class allows for a more accurate and logical imputation method."
   ]
  },
  {
   "cell_type": "code",
   "execution_count": 51,
   "id": "20d5abe2-63f7-4d05-9333-8d5bb1a59ae0",
   "metadata": {
    "tags": []
   },
   "outputs": [
    {
     "name": "stdout",
     "output_type": "stream",
     "text": [
      "Median fare of Pclass 1: 51.8625\n",
      "Median fare of Pclass 2: 13.0\n",
      "Median fare of Pclass 3: 7.8958\n",
      "Median fare of all passengers: 14.4542\n"
     ]
    }
   ],
   "source": [
    "import pandas as pd\n",
    "\n",
    "\n",
    "# Replace non-numeric values in the 'Age' and 'Fare' columns with NaN\n",
    "df['Fare'] = pd.to_numeric(df['Fare'], errors='coerce')\n",
    "\n",
    "# Calculate the median fare by sex and passenger class for men\n",
    "fare_by_pclass_sex = df[df['Sex'] == 'male'].groupby(['Sex', 'Pclass'])['Fare'].median()\n",
    "\n",
    "# Function to fill missing fare values for men based on their Pclass\n",
    "def fill_missing_fare(row):\n",
    "    if pd.isnull(row['Fare']) and row['Sex'] == 'male':\n",
    "        return fare_by_pclass_sex[row['Sex'], row['Pclass']]\n",
    "    else:\n",
    "        return row['Fare']\n",
    "\n",
    "# Fill the missing values in 'Fare' for men with the medians of their respective Pclass\n",
    "df['Fare'] = df.apply(fill_missing_fare, axis=1)\n",
    "\n",
    "# Print the median fare for each passenger class\n",
    "for pclass in range(1, 4):\n",
    "    median_fare = fare_by_pclass_sex[('male', pclass)]\n",
    "    print('Median fare of Pclass {}: {}'.format(pclass, median_fare))\n",
    "\n",
    "# Print the median fare of all passengers\n",
    "print('Median fare of all passengers: {}'.format(df['Fare'].median()))"
   ]
  },
  {
   "cell_type": "raw",
   "id": "cf7229e1-0613-4e39-8b73-1a6458e55791",
   "metadata": {},
   "source": [
    "Since the missing value of Pclass 3 (with PassengerId = 1044), it should have been filled with 7.8958. Let´s check it."
   ]
  },
  {
   "cell_type": "code",
   "execution_count": 52,
   "id": "509eec1a-9d00-4ffa-a5f4-16f01e1aea98",
   "metadata": {
    "tags": []
   },
   "outputs": [
    {
     "data": {
      "text/html": [
       "<div>\n",
       "<style scoped>\n",
       "    .dataframe tbody tr th:only-of-type {\n",
       "        vertical-align: middle;\n",
       "    }\n",
       "\n",
       "    .dataframe tbody tr th {\n",
       "        vertical-align: top;\n",
       "    }\n",
       "\n",
       "    .dataframe thead th {\n",
       "        text-align: right;\n",
       "    }\n",
       "</style>\n",
       "<table border=\"1\" class=\"dataframe\">\n",
       "  <thead>\n",
       "    <tr style=\"text-align: right;\">\n",
       "      <th></th>\n",
       "      <th>PassengerId</th>\n",
       "      <th>Survived</th>\n",
       "      <th>Pclass</th>\n",
       "      <th>Name</th>\n",
       "      <th>Sex</th>\n",
       "      <th>Age</th>\n",
       "      <th>SibSp</th>\n",
       "      <th>Parch</th>\n",
       "      <th>Ticket</th>\n",
       "      <th>Fare</th>\n",
       "      <th>Cabin</th>\n",
       "      <th>Embarked</th>\n",
       "    </tr>\n",
       "  </thead>\n",
       "  <tbody>\n",
       "    <tr>\n",
       "      <th>152</th>\n",
       "      <td>1044</td>\n",
       "      <td>0</td>\n",
       "      <td>3</td>\n",
       "      <td>Storey, Mr. Thomas</td>\n",
       "      <td>male</td>\n",
       "      <td>60.5</td>\n",
       "      <td>0</td>\n",
       "      <td>0</td>\n",
       "      <td>3701</td>\n",
       "      <td>7.8958</td>\n",
       "      <td>NaN</td>\n",
       "      <td>S</td>\n",
       "    </tr>\n",
       "  </tbody>\n",
       "</table>\n",
       "</div>"
      ],
      "text/plain": [
       "     PassengerId  Survived  Pclass                Name   Sex   Age  SibSp   \n",
       "152         1044         0       3  Storey, Mr. Thomas  male  60.5      0  \\\n",
       "\n",
       "     Parch Ticket    Fare Cabin Embarked  \n",
       "152      0   3701  7.8958   NaN        S  "
      ]
     },
     "execution_count": 52,
     "metadata": {},
     "output_type": "execute_result"
    }
   ],
   "source": [
    "df[df[\"PassengerId\"] == 1044]"
   ]
  },
  {
   "cell_type": "raw",
   "id": "4b08b560-d5c8-4d82-9bd4-32f0cbc68879",
   "metadata": {},
   "source": [
    "NOW, we can see that we filled the missing value correctly"
   ]
  },
  {
   "cell_type": "markdown",
   "id": "4cbf2b9d-a3c7-44e5-be9d-9233cb9e4c10",
   "metadata": {},
   "source": [
    "#### Cabin missing values"
   ]
  },
  {
   "cell_type": "raw",
   "id": "aba7a958-a587-4761-a58d-2ec319e69827",
   "metadata": {},
   "source": [
    "The Cabin feature presents some challenges and requires additional investigation.\n",
    "\n",
    "### This is coonsidered to be part of the domain knowledge, you should investiagte the situation besides the data ###\n",
    "\n",
    "A significant portion of the Cabin data is missing, but it cannot be disregarded entirely because certain cabins may have influenced survival rates. \n",
    "\n",
    "Interestingly, the first letter of the Cabin values represents the decks where the cabins are situated. These decks were primarily designated for specific passenger classes, although some were shared among multiple classes.\n",
    "\n",
    "On the Boat Deck there were 6 rooms labeled as T, U, W, X, Y, Z but only the T cabin is present in the dataset\n",
    "    - A, B and C decks were only for 1st class passengers\n",
    "    - D and E decks were for all classes\n",
    "    - F and G decks were for both 2nd and 3rd class passengers\n",
    "      From going A to G, distance to the staircase increases which might be a factor of survival"
   ]
  },
  {
   "cell_type": "code",
   "execution_count": 53,
   "id": "8aac94d1-4b02-4863-a513-6f1ce2b0bf49",
   "metadata": {
    "tags": []
   },
   "outputs": [],
   "source": [
    "# Creating Deck column from the first letter of the Cabin column (M stands for Missing)\n",
    "df['Deck'] = df['Cabin'].apply(lambda s: s[0] if pd.notnull(s) else 'M')\n",
    "\n",
    "df_all_decks = df.groupby(['Deck', 'Pclass']).count().drop(columns=['Survived', 'Sex', 'Age', 'SibSp', 'Parch', \n",
    "                                                                    'Fare', 'Embarked', 'Cabin', 'PassengerId', 'Ticket']).rename(columns={'Name': 'Count'}).transpose()"
   ]
  },
  {
   "cell_type": "code",
   "execution_count": 54,
   "id": "cb681e8a-5a08-4bc6-940f-3a3a0fcd1d14",
   "metadata": {
    "tags": []
   },
   "outputs": [],
   "source": [
    "def get_pclass_dist(df):\n",
    "    \n",
    "    # Creating a dictionary for every passenger class count in every deck\n",
    "    deck_counts = {'A': {}, 'B': {}, 'C': {}, 'D': {}, 'E': {}, 'F': {}, 'G': {}, 'M': {}, 'T': {}}\n",
    "    decks = df.columns.levels[0]    \n",
    "    \n",
    "    for deck in decks:\n",
    "        for pclass in range(1, 4):\n",
    "            try:\n",
    "                count = df[deck][pclass][0]\n",
    "                deck_counts[deck][pclass] = count \n",
    "            except KeyError:\n",
    "                deck_counts[deck][pclass] = 0\n",
    "                \n",
    "    df_decks = pd.DataFrame(deck_counts)    \n",
    "    deck_percentages = {}\n",
    "\n",
    "    # Creating a dictionary for every passenger class percentage in every deck\n",
    "    for col in df_decks.columns:\n",
    "        deck_percentages[col] = [(count / df_decks[col].sum()) * 100 for count in df_decks[col]]\n",
    "        \n",
    "    return deck_counts, deck_percentages"
   ]
  },
  {
   "cell_type": "code",
   "execution_count": 55,
   "id": "88851c2d-c2d5-4f28-b650-70c4e25ecad5",
   "metadata": {
    "tags": []
   },
   "outputs": [],
   "source": [
    "def display_pclass_dist(percentages):\n",
    "    \n",
    "    df_percentages = pd.DataFrame(percentages).transpose()\n",
    "    deck_names = ('A', 'B', 'C', 'D', 'E', 'F', 'G', 'M', 'T')\n",
    "    bar_count = np.arange(len(deck_names))  \n",
    "    bar_width = 0.6\n",
    "    \n",
    "    pclass1 = df_percentages[0]\n",
    "    pclass2 = df_percentages[1]\n",
    "    pclass3 = df_percentages[2]\n",
    "    \n",
    "    plt.figure(figsize=(15, 10))\n",
    "    plt.bar(bar_count, pclass1, color='#b5ffb9', edgecolor='white', width=bar_width, label='Passenger Class 1')\n",
    "    plt.bar(bar_count, pclass2, bottom=pclass1, color='#f9bc86', edgecolor='white', width=bar_width, label='Passenger Class 2')\n",
    "    plt.bar(bar_count, pclass3, bottom=pclass1 + pclass2, color='#a3acff', edgecolor='white', width=bar_width, label='Passenger Class 3')\n",
    "\n",
    "    plt.xlabel('Deck', size=15, labelpad=20)\n",
    "    plt.ylabel('Passenger Class Percentage', size=15, labelpad=20)\n",
    "    plt.xticks(bar_count, deck_names)    \n",
    "    plt.tick_params(axis='x', labelsize=15)\n",
    "    plt.tick_params(axis='y', labelsize=15)\n",
    "    \n",
    "    plt.legend(loc='upper left', bbox_to_anchor=(1, 1), prop={'size': 15})\n",
    "    plt.title('Passenger Class Distribution in Decks', size=18, y=1.05)   \n",
    "    \n",
    "    plt.show()    "
   ]
  },
  {
   "cell_type": "code",
   "execution_count": 56,
   "id": "b36b79fd-454c-4f41-9388-eb49b701a432",
   "metadata": {
    "tags": []
   },
   "outputs": [
    {
     "data": {
      "image/png": "[encoded data removed]",
      "text/plain": [
       "<Figure size 1500x1000 with 1 Axes>"
      ]
     },
     "metadata": {},
     "output_type": "display_data"
    }
   ],
   "source": [
    "all_deck_count, all_deck_per = get_pclass_dist(df_all_decks)\n",
    "display_pclass_dist(all_deck_per)"
   ]
  },
  {
   "cell_type": "code",
   "execution_count": 57,
   "id": "deb7973b-40ca-4837-93b9-65c46dff1d24",
   "metadata": {
    "tags": []
   },
   "outputs": [],
   "source": [
    "# Passenger in the T deck is changed to A\n",
    "idx = df[df['Deck'] == 'T'].index\n",
    "df.loc[idx, 'Deck'] = 'A'"
   ]
  },
  {
   "cell_type": "code",
   "execution_count": null,
   "id": "b941b230-1a51-4044-9404-09ce22979c8d",
   "metadata": {},
   "outputs": [],
   "source": []
  },
  {
   "cell_type": "code",
   "execution_count": 58,
   "id": "1b2cc495-111f-4440-81af-ba806b2df919",
   "metadata": {
    "tags": []
   },
   "outputs": [],
   "source": [
    "df_all_decks_survived = df.groupby(['Deck', 'Survived']).count().drop(columns=['Sex', 'Age', 'SibSp', 'Parch', 'Fare', \n",
    "                                                                                   'Embarked', 'Pclass', 'Cabin', 'PassengerId', 'Ticket']).rename(columns={'Name':'Count'}).transpose()\n",
    "def get_survived_dist(df):\n",
    "    surv_counts = {'A': {}, 'B': {}, 'C': {}, 'D': {}, 'E': {}, 'F': {}, 'G': {}, 'M': {}}\n",
    "    decks = df.columns.levels[0]\n",
    "\n",
    "    for deck in decks:\n",
    "        for survive in range(0, 2):\n",
    "            try:\n",
    "                surv_counts[deck][survive] = df.loc[:, deck].loc[:, survive].iloc[0]\n",
    "            except KeyError:\n",
    "                surv_counts[deck][survive] = 0\n",
    "\n",
    "    df_surv = pd.DataFrame(surv_counts)\n",
    "    surv_percentages = {}\n",
    "\n",
    "    for col in df_surv.columns:\n",
    "        surv_percentages[col] = [(count / df_surv[col].sum()) * 100 for count in df_surv[col]]\n",
    "\n",
    "    return surv_counts, surv_percentages\n"
   ]
  },
  {
   "cell_type": "code",
   "execution_count": 59,
   "id": "b354527b-943d-489c-8833-60573d0ca532",
   "metadata": {
    "tags": []
   },
   "outputs": [],
   "source": [
    "def display_surv_dist(percentages):\n",
    "    \n",
    "    df_survived_percentages = pd.DataFrame(percentages).transpose()\n",
    "    deck_names = ('A', 'B', 'C', 'D', 'E', 'F', 'G', 'M')\n",
    "    bar_count = np.arange(len(deck_names))  \n",
    "    bar_width = 0.85    \n",
    "\n",
    "    not_survived = df_survived_percentages[0]\n",
    "    survived = df_survived_percentages[1]\n",
    "    \n",
    "    plt.figure(figsize=(15, 8))\n",
    "    plt.bar(bar_count, not_survived, color='#b5ffb9', edgecolor='white', width=bar_width, label=\"Not Survived\")\n",
    "    plt.bar(bar_count, survived, bottom=not_survived, color='#f9bc86', edgecolor='white', width=bar_width, label=\"Survived\")\n",
    " \n",
    "    plt.xlabel('Deck', size=15, labelpad=20)\n",
    "    plt.ylabel('Survival Percentage', size=15, labelpad=20)\n",
    "    plt.xticks(bar_count, deck_names)    \n",
    "    plt.tick_params(axis='x', labelsize=15)\n",
    "    plt.tick_params(axis='y', labelsize=15)\n",
    "    \n",
    "    plt.legend(loc='upper left', bbox_to_anchor=(1, 1), prop={'size': 15})\n",
    "    plt.title('Survival Percentage in Decks', size=18, y=1.05)\n",
    "    \n",
    "    plt.show()\n"
   ]
  },
  {
   "cell_type": "code",
   "execution_count": 60,
   "id": "de4fb9c7-bb19-4bd6-b6ff-55c8d259d6c4",
   "metadata": {
    "tags": []
   },
   "outputs": [
    {
     "data": {
      "image/png": "[encoded data removed]",
      "text/plain": [
       "<Figure size 1500x800 with 1 Axes>"
      ]
     },
     "metadata": {},
     "output_type": "display_data"
    }
   ],
   "source": [
    "all_surv_count, all_surv_per = get_survived_dist(df_all_decks_survived)\n",
    "display_surv_dist(all_surv_per)"
   ]
  },
  {
   "cell_type": "raw",
   "id": "8f290a48-4c9e-40f5-b897-83e64d43943a",
   "metadata": {},
   "source": [
    "from \"Passenger Class Distribution in Decks\" graph:\n",
    "\n",
    "A, B and C decks are labeled as ABC because all of them have only 1st class passengers.\n",
    "\n",
    "D and E decks are labeled as DE because both of them have similar passenger class distribution and same survival rate.\n",
    "\n",
    "F and G decks are labeled as FG because of the same reason above.\n",
    "\n",
    "M deck doesn't need to be grouped with other decks because it is very different from others and has the lowest survival rate."
   ]
  },
  {
   "cell_type": "code",
   "execution_count": 61,
   "id": "b16b3c76-3d37-4282-8174-ab86a1bcea2a",
   "metadata": {
    "tags": []
   },
   "outputs": [
    {
     "data": {
      "text/plain": [
       "Deck\n",
       "M      327\n",
       "ABC     60\n",
       "DE      22\n",
       "FG       9\n",
       "Name: count, dtype: int64"
      ]
     },
     "execution_count": 61,
     "metadata": {},
     "output_type": "execute_result"
    }
   ],
   "source": [
    "df['Deck'] = df['Deck'].replace(['A', 'B', 'C'], 'ABC')\n",
    "df['Deck'] = df['Deck'].replace(['D', 'E'], 'DE')\n",
    "df['Deck'] = df['Deck'].replace(['F', 'G'], 'FG')\n",
    "\n",
    "df['Deck'].value_counts()"
   ]
  },
  {
   "cell_type": "raw",
   "id": "7b4146d3-b402-4fe0-badf-54324846ae80",
   "metadata": {},
   "source": [
    "Cabin is dropped because Deck feature is used instead of it."
   ]
  },
  {
   "cell_type": "code",
   "execution_count": 62,
   "id": "193b8c89-ad91-4ee5-b496-d5624245654c",
   "metadata": {
    "tags": []
   },
   "outputs": [],
   "source": [
    "# Dropping the Cabin feature\n",
    "df.drop(['Cabin'], inplace=True, axis=1)"
   ]
  },
  {
   "cell_type": "code",
   "execution_count": 63,
   "id": "8af76fdf-7294-4616-808c-7f342edc5347",
   "metadata": {
    "tags": []
   },
   "outputs": [
    {
     "data": {
      "text/plain": [
       "PassengerId    0\n",
       "Survived       0\n",
       "Pclass         0\n",
       "Name           0\n",
       "Sex            0\n",
       "Age            0\n",
       "SibSp          0\n",
       "Parch          0\n",
       "Ticket         0\n",
       "Fare           0\n",
       "Embarked       0\n",
       "Deck           0\n",
       "dtype: int64"
      ]
     },
     "execution_count": 63,
     "metadata": {},
     "output_type": "execute_result"
    }
   ],
   "source": [
    "# Check for missing values\n",
    "missing_values = df.isnull().sum()\n",
    "missing_values"
   ]
  },
  {
   "cell_type": "raw",
   "id": "bb858fac-4b6e-4f08-b878-e096be426cd6",
   "metadata": {},
   "source": [
    "NOW, we handled all missing values in the dataset properly"
   ]
  },
  {
   "cell_type": "markdown",
   "id": "0fdf39f7-3551-4932-89d9-0ff69249e762",
   "metadata": {},
   "source": [
    "### Splitting the data"
   ]
  },
  {
   "cell_type": "code",
   "execution_count": 64,
   "id": "7c9c9132-7096-4fed-8edc-f1179ea0a543",
   "metadata": {
    "tags": []
   },
   "outputs": [
    {
     "data": {
      "text/plain": [
       "336    0\n",
       "31     0\n",
       "84     0\n",
       "287    0\n",
       "317    0\n",
       "Name: Survived, dtype: int64"
      ]
     },
     "execution_count": 64,
     "metadata": {},
     "output_type": "execute_result"
    }
   ],
   "source": [
    "# Split the data into features (X) and target variable (y)\n",
    "\n",
    "# Split the data into features (X) and target variable (y)\n",
    "X = df.drop('Survived', axis=1)\n",
    "y = df['Survived']\n",
    "\n",
    "# Split the data into training and testing sets\n",
    "X_train, X_test, y_train, y_test = train_test_split(X, y, test_size=0.2, random_state=42)\n",
    "\n",
    "\n",
    "y_train.head()"
   ]
  },
  {
   "cell_type": "code",
   "execution_count": null,
   "id": "bdc6131a-89a7-46ef-b7d1-861aa94a9340",
   "metadata": {},
   "outputs": [],
   "source": []
  },
  {
   "cell_type": "markdown",
   "id": "0c48bb6d-83d8-4849-91a5-5894eaf274f9",
   "metadata": {},
   "source": [
    "#### Survival distribution (Target distribtion)"
   ]
  },
  {
   "cell_type": "code",
   "execution_count": 65,
   "id": "8d3d6b35-d39c-4fc7-bf9a-f6b5aea2cb68",
   "metadata": {
    "tags": []
   },
   "outputs": [
    {
     "name": "stdout",
     "output_type": "stream",
     "text": [
      "118 of 334 passengers survived and it is 35.33% of the training set.\n",
      "216 of 334 passengers didn't survive and it is 64.67% of the training set.\n"
     ]
    }
   ],
   "source": [
    "survived = y_train.value_counts()[1]\n",
    "not_survived = y_train.value_counts()[0]\n",
    "\n",
    "survived_per = survived / y_train.shape[0] * 100\n",
    "not_survived_per = not_survived / y_train.shape[0] * 100\n",
    "\n",
    "print('{} of {} passengers survived and it is {:.2f}% of the training set.'.format(survived, y_train.shape[0], survived_per))\n",
    "print('{} of {} passengers didn\\'t survive and it is {:.2f}% of the training set.'.format(not_survived, y_train.shape[0], not_survived_per))\n"
   ]
  },
  {
   "cell_type": "code",
   "execution_count": 66,
   "id": "36e17573-6e96-4c9b-a21e-3299367bb754",
   "metadata": {
    "tags": []
   },
   "outputs": [
    {
     "data": {
      "image/png": "[encoded data removed]",
      "text/plain": [
       "<Figure size 1500x800 with 1 Axes>"
      ]
     },
     "metadata": {},
     "output_type": "display_data"
    }
   ],
   "source": [
    "\n",
    "plt.figure(figsize=(15, 8))\n",
    "sns.countplot(y_train.values)\n",
    "\n",
    "plt.xlabel('Survival', size=15, labelpad=15)\n",
    "plt.ylabel('Passenger Count', size=15, labelpad=15)\n",
    "plt.xticks((0, 1), ['Not Survived ({:.2f}%)'.format(not_survived_per), 'Survived ({:.2f}%)'.format(survived_per)])\n",
    "plt.tick_params(axis='x', labelsize=13)\n",
    "plt.tick_params(axis='y', labelsize=13)\n",
    "\n",
    "plt.title('Training Set Survival Distribution', size=15, y=1.05)\n",
    "\n",
    "plt.show()"
   ]
  },
  {
   "cell_type": "code",
   "execution_count": 67,
   "id": "67ae9be1-746c-406e-99a2-c361393ccb03",
   "metadata": {
    "tags": []
   },
   "outputs": [
    {
     "data": {
      "image/png": "[encoded data removed]",
      "text/plain": [
       "<Figure size 1500x1500 with 4 Axes>"
      ]
     },
     "metadata": {},
     "output_type": "display_data"
    }
   ],
   "source": [
    "cat_features = ['Embarked', 'Pclass', 'Sex', 'Deck']\n",
    "\n",
    "fig, axs = plt.subplots(ncols=2, nrows=2, figsize=(15, 15))\n",
    "plt.subplots_adjust(right=1.5, top=1.25)\n",
    "\n",
    "for i, feature in enumerate(cat_features, 1):    \n",
    "    plt.subplot(2, 2, i)\n",
    "    sns.countplot(x=feature, hue=y_train, data=X_train)\n",
    "    \n",
    "    plt.xlabel('{}'.format(feature), size=20, labelpad=15)\n",
    "    plt.ylabel('Passenger Count', size=20, labelpad=15)    \n",
    "    plt.tick_params(axis='x', labelsize=20)\n",
    "    plt.tick_params(axis='y', labelsize=20)\n",
    "    \n",
    "    plt.legend(['Not Survived', 'Survived'], loc='upper center', prop={'size': 18})\n",
    "    plt.title('Count of Survival in {} Feature'.format(feature), size=20, y=1.05)\n",
    "\n",
    "plt.show()"
   ]
  },
  {
   "cell_type": "markdown",
   "id": "55f6366e-4fb8-4ed7-aeaf-55ca95999d5d",
   "metadata": {},
   "source": [
    "### Handle categorical variables"
   ]
  },
  {
   "cell_type": "raw",
   "id": "af493759-c90f-48af-bcc1-6b18e4697814",
   "metadata": {},
   "source": [
    "We have 4 Categorical Variables need to be handled and converted to numeric in a proper way:\n",
    "    ['Embarked', 'Pclass', 'Sex', 'Deck'] "
   ]
  },
  {
   "cell_type": "raw",
   "id": "4153fe79-14a0-4c88-86a9-c32bad2f86e7",
   "metadata": {},
   "source": [
    "Pclass (Passenger Class):\n",
    "\n",
    "Since 'Pclass' is an ordinal categorical feature with three values (1, 2, or 3), you can encode it using Label Encoding."
   ]
  },
  {
   "cell_type": "code",
   "execution_count": 68,
   "id": "01529fc8-b0f3-4ca1-b5f5-01bdf684f459",
   "metadata": {
    "tags": []
   },
   "outputs": [],
   "source": [
    "from sklearn.preprocessing import LabelEncoder\n",
    "\n",
    "label_encoder = LabelEncoder()\n",
    "X_train['Pclass_encoded'] = label_encoder.fit_transform(X_train['Pclass'])\n",
    "X_test['Pclass_encoded'] = label_encoder.fit_transform(X_test['Pclass'])"
   ]
  },
  {
   "cell_type": "raw",
   "id": "d2a94d26-b181-4992-b099-103b2acb466c",
   "metadata": {},
   "source": [
    "Embarked:\n",
    "\n",
    "Since 'Embarked' is a categorical feature with three values (C, Q, or S), you can also use Label Encoding to encode it."
   ]
  },
  {
   "cell_type": "code",
   "execution_count": 69,
   "id": "2df67168-021f-4813-b6b9-273e720b2e72",
   "metadata": {
    "tags": []
   },
   "outputs": [],
   "source": [
    "label_encoder = LabelEncoder()\n",
    "X_train['Embarked_encoded'] = label_encoder.fit_transform(X_train['Embarked'])\n",
    "X_test['Embarked_encoded'] = label_encoder.fit_transform(X_test['Embarked'])"
   ]
  },
  {
   "cell_type": "raw",
   "id": "37905bc7-2015-409e-a953-6893c4dc020b",
   "metadata": {
    "tags": []
   },
   "source": [
    "Deck:\n",
    "\n",
    "since the 'Deck' variable only takes the values 'ABC', 'DE', 'FG', and 'M', you can encode it using One-Hot Encoding. "
   ]
  },
  {
   "cell_type": "code",
   "execution_count": 70,
   "id": "9b36c313-e68b-475a-a872-c36aa9113b41",
   "metadata": {
    "tags": []
   },
   "outputs": [
    {
     "data": {
      "text/plain": [
       "0"
      ]
     },
     "execution_count": 70,
     "metadata": {},
     "output_type": "execute_result"
    }
   ],
   "source": [
    "X_train[\"Deck\"].isnull().sum()"
   ]
  },
  {
   "cell_type": "code",
   "execution_count": 71,
   "id": "9064bbe7-69d6-499e-93dc-0b3b814853ab",
   "metadata": {
    "tags": []
   },
   "outputs": [
    {
     "data": {
      "text/html": [
       "<div>\n",
       "<style scoped>\n",
       "    .dataframe tbody tr th:only-of-type {\n",
       "        vertical-align: middle;\n",
       "    }\n",
       "\n",
       "    .dataframe tbody tr th {\n",
       "        vertical-align: top;\n",
       "    }\n",
       "\n",
       "    .dataframe thead th {\n",
       "        text-align: right;\n",
       "    }\n",
       "</style>\n",
       "<table border=\"1\" class=\"dataframe\">\n",
       "  <thead>\n",
       "    <tr style=\"text-align: right;\">\n",
       "      <th></th>\n",
       "      <th>PassengerId</th>\n",
       "      <th>Pclass</th>\n",
       "      <th>Name</th>\n",
       "      <th>Sex</th>\n",
       "      <th>Age</th>\n",
       "      <th>SibSp</th>\n",
       "      <th>Parch</th>\n",
       "      <th>Ticket</th>\n",
       "      <th>Fare</th>\n",
       "      <th>Embarked</th>\n",
       "      <th>Deck</th>\n",
       "      <th>Pclass_encoded</th>\n",
       "      <th>Embarked_encoded</th>\n",
       "    </tr>\n",
       "  </thead>\n",
       "  <tbody>\n",
       "    <tr>\n",
       "      <th>336</th>\n",
       "      <td>1228</td>\n",
       "      <td>2</td>\n",
       "      <td>de Brito, Mr. Jose Joaquim</td>\n",
       "      <td>male</td>\n",
       "      <td>32.0</td>\n",
       "      <td>0</td>\n",
       "      <td>0</td>\n",
       "      <td>244360</td>\n",
       "      <td>13.0000</td>\n",
       "      <td>S</td>\n",
       "      <td>0</td>\n",
       "      <td>1</td>\n",
       "      <td>2</td>\n",
       "    </tr>\n",
       "    <tr>\n",
       "      <th>31</th>\n",
       "      <td>923</td>\n",
       "      <td>2</td>\n",
       "      <td>Jefferys, Mr. Clifford Thomas</td>\n",
       "      <td>male</td>\n",
       "      <td>24.0</td>\n",
       "      <td>2</td>\n",
       "      <td>0</td>\n",
       "      <td>C.A. 31029</td>\n",
       "      <td>31.5000</td>\n",
       "      <td>S</td>\n",
       "      <td>0</td>\n",
       "      <td>1</td>\n",
       "      <td>2</td>\n",
       "    </tr>\n",
       "    <tr>\n",
       "      <th>84</th>\n",
       "      <td>976</td>\n",
       "      <td>2</td>\n",
       "      <td>Lamb, Mr. John Joseph</td>\n",
       "      <td>male</td>\n",
       "      <td>28.0</td>\n",
       "      <td>0</td>\n",
       "      <td>0</td>\n",
       "      <td>240261</td>\n",
       "      <td>10.7083</td>\n",
       "      <td>Q</td>\n",
       "      <td>0</td>\n",
       "      <td>1</td>\n",
       "      <td>1</td>\n",
       "    </tr>\n",
       "    <tr>\n",
       "      <th>287</th>\n",
       "      <td>1179</td>\n",
       "      <td>1</td>\n",
       "      <td>Snyder, Mr. John Pillsbury</td>\n",
       "      <td>male</td>\n",
       "      <td>24.0</td>\n",
       "      <td>1</td>\n",
       "      <td>0</td>\n",
       "      <td>21228</td>\n",
       "      <td>82.2667</td>\n",
       "      <td>S</td>\n",
       "      <td>1</td>\n",
       "      <td>0</td>\n",
       "      <td>2</td>\n",
       "    </tr>\n",
       "    <tr>\n",
       "      <th>317</th>\n",
       "      <td>1209</td>\n",
       "      <td>2</td>\n",
       "      <td>Rogers, Mr. Reginald Harry</td>\n",
       "      <td>male</td>\n",
       "      <td>19.0</td>\n",
       "      <td>0</td>\n",
       "      <td>0</td>\n",
       "      <td>28004</td>\n",
       "      <td>10.5000</td>\n",
       "      <td>S</td>\n",
       "      <td>0</td>\n",
       "      <td>1</td>\n",
       "      <td>2</td>\n",
       "    </tr>\n",
       "  </tbody>\n",
       "</table>\n",
       "</div>"
      ],
      "text/plain": [
       "     PassengerId  Pclass                           Name   Sex   Age  SibSp   \n",
       "336         1228       2     de Brito, Mr. Jose Joaquim  male  32.0      0  \\\n",
       "31           923       2  Jefferys, Mr. Clifford Thomas  male  24.0      2   \n",
       "84           976       2          Lamb, Mr. John Joseph  male  28.0      0   \n",
       "287         1179       1     Snyder, Mr. John Pillsbury  male  24.0      1   \n",
       "317         1209       2     Rogers, Mr. Reginald Harry  male  19.0      0   \n",
       "\n",
       "     Parch      Ticket     Fare Embarked  Deck  Pclass_encoded   \n",
       "336      0      244360  13.0000        S     0               1  \\\n",
       "31       0  C.A. 31029  31.5000        S     0               1   \n",
       "84       0      240261  10.7083        Q     0               1   \n",
       "287      0       21228  82.2667        S     1               0   \n",
       "317      0       28004  10.5000        S     0               1   \n",
       "\n",
       "     Embarked_encoded  \n",
       "336                 2  \n",
       "31                  2  \n",
       "84                  1  \n",
       "287                 2  \n",
       "317                 2  "
      ]
     },
     "execution_count": 71,
     "metadata": {},
     "output_type": "execute_result"
    }
   ],
   "source": [
    "import pandas as pd\n",
    "Deck_mapping = {\"ABC\": 1, \"DE\": 2, \"FG\": 3, \"M\": 0} \n",
    "X_train[\"Deck\"] = X_train[\"Deck\"].replace(Deck_mapping)\n",
    "X_test[\"Deck\"] = X_test[\"Deck\"].replace(Deck_mapping)\n",
    "\n",
    "X_train.head()"
   ]
  },
  {
   "cell_type": "raw",
   "id": "ed02d0b1-b96d-4a42-844d-651e89d469ea",
   "metadata": {},
   "source": [
    "Sex:\n",
    "\n",
    "Since Sex has only two values: male and female, we map them into 1, 0 respectively."
   ]
  },
  {
   "cell_type": "code",
   "execution_count": 73,
   "id": "52a79bf6-8337-472e-ba59-c7df137ec6d2",
   "metadata": {
    "tags": []
   },
   "outputs": [
    {
     "data": {
      "text/html": [
       "<div>\n",
       "<style scoped>\n",
       "    .dataframe tbody tr th:only-of-type {\n",
       "        vertical-align: middle;\n",
       "    }\n",
       "\n",
       "    .dataframe tbody tr th {\n",
       "        vertical-align: top;\n",
       "    }\n",
       "\n",
       "    .dataframe thead th {\n",
       "        text-align: right;\n",
       "    }\n",
       "</style>\n",
       "<table border=\"1\" class=\"dataframe\">\n",
       "  <thead>\n",
       "    <tr style=\"text-align: right;\">\n",
       "      <th></th>\n",
       "      <th>PassengerId</th>\n",
       "      <th>Pclass</th>\n",
       "      <th>Name</th>\n",
       "      <th>Sex</th>\n",
       "      <th>Age</th>\n",
       "      <th>SibSp</th>\n",
       "      <th>Parch</th>\n",
       "      <th>Ticket</th>\n",
       "      <th>Fare</th>\n",
       "      <th>Embarked</th>\n",
       "      <th>Deck</th>\n",
       "      <th>Pclass_encoded</th>\n",
       "      <th>Embarked_encoded</th>\n",
       "    </tr>\n",
       "  </thead>\n",
       "  <tbody>\n",
       "    <tr>\n",
       "      <th>336</th>\n",
       "      <td>1228</td>\n",
       "      <td>2</td>\n",
       "      <td>de Brito, Mr. Jose Joaquim</td>\n",
       "      <td>1</td>\n",
       "      <td>32.0</td>\n",
       "      <td>0</td>\n",
       "      <td>0</td>\n",
       "      <td>244360</td>\n",
       "      <td>13.0000</td>\n",
       "      <td>S</td>\n",
       "      <td>0</td>\n",
       "      <td>1</td>\n",
       "      <td>2</td>\n",
       "    </tr>\n",
       "    <tr>\n",
       "      <th>31</th>\n",
       "      <td>923</td>\n",
       "      <td>2</td>\n",
       "      <td>Jefferys, Mr. Clifford Thomas</td>\n",
       "      <td>1</td>\n",
       "      <td>24.0</td>\n",
       "      <td>2</td>\n",
       "      <td>0</td>\n",
       "      <td>C.A. 31029</td>\n",
       "      <td>31.5000</td>\n",
       "      <td>S</td>\n",
       "      <td>0</td>\n",
       "      <td>1</td>\n",
       "      <td>2</td>\n",
       "    </tr>\n",
       "    <tr>\n",
       "      <th>84</th>\n",
       "      <td>976</td>\n",
       "      <td>2</td>\n",
       "      <td>Lamb, Mr. John Joseph</td>\n",
       "      <td>1</td>\n",
       "      <td>28.0</td>\n",
       "      <td>0</td>\n",
       "      <td>0</td>\n",
       "      <td>240261</td>\n",
       "      <td>10.7083</td>\n",
       "      <td>Q</td>\n",
       "      <td>0</td>\n",
       "      <td>1</td>\n",
       "      <td>1</td>\n",
       "    </tr>\n",
       "    <tr>\n",
       "      <th>287</th>\n",
       "      <td>1179</td>\n",
       "      <td>1</td>\n",
       "      <td>Snyder, Mr. John Pillsbury</td>\n",
       "      <td>1</td>\n",
       "      <td>24.0</td>\n",
       "      <td>1</td>\n",
       "      <td>0</td>\n",
       "      <td>21228</td>\n",
       "      <td>82.2667</td>\n",
       "      <td>S</td>\n",
       "      <td>1</td>\n",
       "      <td>0</td>\n",
       "      <td>2</td>\n",
       "    </tr>\n",
       "    <tr>\n",
       "      <th>317</th>\n",
       "      <td>1209</td>\n",
       "      <td>2</td>\n",
       "      <td>Rogers, Mr. Reginald Harry</td>\n",
       "      <td>1</td>\n",
       "      <td>19.0</td>\n",
       "      <td>0</td>\n",
       "      <td>0</td>\n",
       "      <td>28004</td>\n",
       "      <td>10.5000</td>\n",
       "      <td>S</td>\n",
       "      <td>0</td>\n",
       "      <td>1</td>\n",
       "      <td>2</td>\n",
       "    </tr>\n",
       "  </tbody>\n",
       "</table>\n",
       "</div>"
      ],
      "text/plain": [
       "     PassengerId  Pclass                           Name  Sex   Age  SibSp   \n",
       "336         1228       2     de Brito, Mr. Jose Joaquim    1  32.0      0  \\\n",
       "31           923       2  Jefferys, Mr. Clifford Thomas    1  24.0      2   \n",
       "84           976       2          Lamb, Mr. John Joseph    1  28.0      0   \n",
       "287         1179       1     Snyder, Mr. John Pillsbury    1  24.0      1   \n",
       "317         1209       2     Rogers, Mr. Reginald Harry    1  19.0      0   \n",
       "\n",
       "     Parch      Ticket     Fare Embarked  Deck  Pclass_encoded   \n",
       "336      0      244360  13.0000        S     0               1  \\\n",
       "31       0  C.A. 31029  31.5000        S     0               1   \n",
       "84       0      240261  10.7083        Q     0               1   \n",
       "287      0       21228  82.2667        S     1               0   \n",
       "317      0       28004  10.5000        S     0               1   \n",
       "\n",
       "     Embarked_encoded  \n",
       "336                 2  \n",
       "31                  2  \n",
       "84                  1  \n",
       "287                 2  \n",
       "317                 2  "
      ]
     },
     "execution_count": 73,
     "metadata": {},
     "output_type": "execute_result"
    }
   ],
   "source": [
    "import pandas as pd\n",
    "Deck_mapping = {\"male\":1, \"female\":0}\n",
    "X_train[\"Sex\"]= X_train[\"Sex\"].replace(Deck_mapping)\n",
    "X_test[\"Sex\"] = X_test[\"Sex\"].replace(Deck_mapping)\n",
    "\n",
    "X_train.head()"
   ]
  },
  {
   "cell_type": "code",
   "execution_count": 74,
   "id": "047e6089-1dab-4b68-ae54-84eeb371398d",
   "metadata": {
    "tags": []
   },
   "outputs": [
    {
     "data": {
      "text/html": [
       "<div>\n",
       "<style scoped>\n",
       "    .dataframe tbody tr th:only-of-type {\n",
       "        vertical-align: middle;\n",
       "    }\n",
       "\n",
       "    .dataframe tbody tr th {\n",
       "        vertical-align: top;\n",
       "    }\n",
       "\n",
       "    .dataframe thead th {\n",
       "        text-align: right;\n",
       "    }\n",
       "</style>\n",
       "<table border=\"1\" class=\"dataframe\">\n",
       "  <thead>\n",
       "    <tr style=\"text-align: right;\">\n",
       "      <th></th>\n",
       "      <th>Pclass</th>\n",
       "      <th>Sex</th>\n",
       "      <th>Age</th>\n",
       "      <th>SibSp</th>\n",
       "      <th>Parch</th>\n",
       "      <th>Fare</th>\n",
       "      <th>Deck</th>\n",
       "      <th>Pclass_encoded</th>\n",
       "      <th>Embarked_encoded</th>\n",
       "    </tr>\n",
       "  </thead>\n",
       "  <tbody>\n",
       "    <tr>\n",
       "      <th>336</th>\n",
       "      <td>2</td>\n",
       "      <td>1</td>\n",
       "      <td>32.0</td>\n",
       "      <td>0</td>\n",
       "      <td>0</td>\n",
       "      <td>13.0000</td>\n",
       "      <td>0</td>\n",
       "      <td>1</td>\n",
       "      <td>2</td>\n",
       "    </tr>\n",
       "    <tr>\n",
       "      <th>31</th>\n",
       "      <td>2</td>\n",
       "      <td>1</td>\n",
       "      <td>24.0</td>\n",
       "      <td>2</td>\n",
       "      <td>0</td>\n",
       "      <td>31.5000</td>\n",
       "      <td>0</td>\n",
       "      <td>1</td>\n",
       "      <td>2</td>\n",
       "    </tr>\n",
       "    <tr>\n",
       "      <th>84</th>\n",
       "      <td>2</td>\n",
       "      <td>1</td>\n",
       "      <td>28.0</td>\n",
       "      <td>0</td>\n",
       "      <td>0</td>\n",
       "      <td>10.7083</td>\n",
       "      <td>0</td>\n",
       "      <td>1</td>\n",
       "      <td>1</td>\n",
       "    </tr>\n",
       "    <tr>\n",
       "      <th>287</th>\n",
       "      <td>1</td>\n",
       "      <td>1</td>\n",
       "      <td>24.0</td>\n",
       "      <td>1</td>\n",
       "      <td>0</td>\n",
       "      <td>82.2667</td>\n",
       "      <td>1</td>\n",
       "      <td>0</td>\n",
       "      <td>2</td>\n",
       "    </tr>\n",
       "    <tr>\n",
       "      <th>317</th>\n",
       "      <td>2</td>\n",
       "      <td>1</td>\n",
       "      <td>19.0</td>\n",
       "      <td>0</td>\n",
       "      <td>0</td>\n",
       "      <td>10.5000</td>\n",
       "      <td>0</td>\n",
       "      <td>1</td>\n",
       "      <td>2</td>\n",
       "    </tr>\n",
       "  </tbody>\n",
       "</table>\n",
       "</div>"
      ],
      "text/plain": [
       "     Pclass  Sex   Age  SibSp  Parch     Fare  Deck  Pclass_encoded   \n",
       "336       2    1  32.0      0      0  13.0000     0               1  \\\n",
       "31        2    1  24.0      2      0  31.5000     0               1   \n",
       "84        2    1  28.0      0      0  10.7083     0               1   \n",
       "287       1    1  24.0      1      0  82.2667     1               0   \n",
       "317       2    1  19.0      0      0  10.5000     0               1   \n",
       "\n",
       "     Embarked_encoded  \n",
       "336                 2  \n",
       "31                  2  \n",
       "84                  1  \n",
       "287                 2  \n",
       "317                 2  "
      ]
     },
     "execution_count": 74,
     "metadata": {},
     "output_type": "execute_result"
    }
   ],
   "source": [
    "X_train = X_train.drop([\"PassengerId\", \"Name\", \"Embarked\", \"Ticket\"], axis=1)\n",
    "X_train.head()"
   ]
  },
  {
   "cell_type": "raw",
   "id": "d69c4b9e-a654-4873-ba12-18efd3a86acc",
   "metadata": {
    "tags": []
   },
   "source": [
    "We need to define one function to be applie on both train and test datasets to handle the categorical variables in the same way"
   ]
  },
  {
   "cell_type": "code",
   "execution_count": 75,
   "id": "85f16996-2ae4-4426-b35b-1be99f1a6023",
   "metadata": {
    "tags": []
   },
   "outputs": [
    {
     "name": "stdout",
     "output_type": "stream",
     "text": [
      "[0 1 2 3]\n"
     ]
    }
   ],
   "source": [
    "print(X_train['Deck'].unique())"
   ]
  },
  {
   "cell_type": "code",
   "execution_count": 77,
   "id": "b83aca63-2519-4ff1-9b83-0568c11e5ca0",
   "metadata": {},
   "outputs": [
    {
     "data": {
      "text/html": [
       "<div>\n",
       "<style scoped>\n",
       "    .dataframe tbody tr th:only-of-type {\n",
       "        vertical-align: middle;\n",
       "    }\n",
       "\n",
       "    .dataframe tbody tr th {\n",
       "        vertical-align: top;\n",
       "    }\n",
       "\n",
       "    .dataframe thead th {\n",
       "        text-align: right;\n",
       "    }\n",
       "</style>\n",
       "<table border=\"1\" class=\"dataframe\">\n",
       "  <thead>\n",
       "    <tr style=\"text-align: right;\">\n",
       "      <th></th>\n",
       "      <th>Pclass</th>\n",
       "      <th>Sex</th>\n",
       "      <th>Age</th>\n",
       "      <th>SibSp</th>\n",
       "      <th>Parch</th>\n",
       "      <th>Fare</th>\n",
       "      <th>Deck</th>\n",
       "      <th>Pclass_encoded</th>\n",
       "      <th>Embarked_encoded</th>\n",
       "    </tr>\n",
       "  </thead>\n",
       "  <tbody>\n",
       "    <tr>\n",
       "      <th>321</th>\n",
       "      <td>3</td>\n",
       "      <td>1</td>\n",
       "      <td>25.0</td>\n",
       "      <td>0</td>\n",
       "      <td>0</td>\n",
       "      <td>7.2292</td>\n",
       "      <td>3</td>\n",
       "      <td>2</td>\n",
       "      <td>0</td>\n",
       "    </tr>\n",
       "    <tr>\n",
       "      <th>324</th>\n",
       "      <td>1</td>\n",
       "      <td>0</td>\n",
       "      <td>39.0</td>\n",
       "      <td>0</td>\n",
       "      <td>0</td>\n",
       "      <td>211.3375</td>\n",
       "      <td>0</td>\n",
       "      <td>0</td>\n",
       "      <td>2</td>\n",
       "    </tr>\n",
       "    <tr>\n",
       "      <th>388</th>\n",
       "      <td>3</td>\n",
       "      <td>1</td>\n",
       "      <td>21.0</td>\n",
       "      <td>0</td>\n",
       "      <td>0</td>\n",
       "      <td>7.7500</td>\n",
       "      <td>0</td>\n",
       "      <td>2</td>\n",
       "      <td>1</td>\n",
       "    </tr>\n",
       "    <tr>\n",
       "      <th>56</th>\n",
       "      <td>3</td>\n",
       "      <td>1</td>\n",
       "      <td>35.0</td>\n",
       "      <td>0</td>\n",
       "      <td>0</td>\n",
       "      <td>7.8958</td>\n",
       "      <td>0</td>\n",
       "      <td>2</td>\n",
       "      <td>2</td>\n",
       "    </tr>\n",
       "    <tr>\n",
       "      <th>153</th>\n",
       "      <td>3</td>\n",
       "      <td>0</td>\n",
       "      <td>36.0</td>\n",
       "      <td>0</td>\n",
       "      <td>2</td>\n",
       "      <td>12.1833</td>\n",
       "      <td>0</td>\n",
       "      <td>2</td>\n",
       "      <td>2</td>\n",
       "    </tr>\n",
       "  </tbody>\n",
       "</table>\n",
       "</div>"
      ],
      "text/plain": [
       "     Pclass  Sex   Age  SibSp  Parch      Fare  Deck  Pclass_encoded   \n",
       "321       3    1  25.0      0      0    7.2292     3               2  \\\n",
       "324       1    0  39.0      0      0  211.3375     0               0   \n",
       "388       3    1  21.0      0      0    7.7500     0               2   \n",
       "56        3    1  35.0      0      0    7.8958     0               2   \n",
       "153       3    0  36.0      0      2   12.1833     0               2   \n",
       "\n",
       "     Embarked_encoded  \n",
       "321                 0  \n",
       "324                 2  \n",
       "388                 1  \n",
       "56                  2  \n",
       "153                 2  "
      ]
     },
     "execution_count": 77,
     "metadata": {},
     "output_type": "execute_result"
    }
   ],
   "source": [
    "X_test = X_test.drop([\"PassengerId\", \"Name\", \"Embarked\", \"Ticket\"], axis=1)\n",
    "X_test.head()"
   ]
  },
  {
   "cell_type": "code",
   "execution_count": 78,
   "id": "1ce69c7d-d782-4941-b3e2-e479b6a1fb37",
   "metadata": {
    "tags": []
   },
   "outputs": [
    {
     "name": "stdout",
     "output_type": "stream",
     "text": [
      "Selected features: ['Sex', 'Pclass']\n"
     ]
    }
   ],
   "source": [
    "# List to store selected features\n",
    "selected_features = []\n",
    "\n",
    "# Initialize the best score as infinity\n",
    "best_score = float('inf')\n",
    "\n",
    "# Loop to perform forward selection\n",
    "while len(selected_features) < X.shape[1]:\n",
    "    # Variables to track best feature and its corresponding score\n",
    "    best_feature = None\n",
    "    best_feature_score = float('inf')\n",
    "    \n",
    "    # Iterate over the remaining features\n",
    "    for feature in X.columns:\n",
    "        if feature not in selected_features:\n",
    "            # Create a new feature set with the selected features and current feature\n",
    "            feature_set = selected_features + [feature]\n",
    "            \n",
    "            # Train a model using the feature set\n",
    "            if all(feature in X_train.columns for feature in feature_set):\n",
    "                model = RandomForestClassifier()\n",
    "                model.fit(X_train[feature_set], y_train)\n",
    "            else:\n",
    "                # Handle the case when a feature is not present in X_train\n",
    "                continue\n",
    "            \n",
    "            # Evaluate the model using a suitable metric (e.g., mean squared error)\n",
    "            y_pred = model.predict(X_test[feature_set])\n",
    "            score = mean_squared_error(y_test, y_pred)\n",
    "            \n",
    "            # Update the best feature and score if necessary\n",
    "            if score < best_feature_score:\n",
    "                best_feature = feature\n",
    "                best_feature_score = score\n",
    "    \n",
    "    # Add the best feature to the selected features list\n",
    "    selected_features.append(best_feature)\n",
    "    \n",
    "    # Update the best score\n",
    "    if best_feature_score < best_score:\n",
    "        best_score = best_feature_score\n",
    "    else:\n",
    "        # Stop the loop if the score starts increasing\n",
    "        break\n",
    "\n",
    "# Print the selected features\n",
    "print(\"Selected features:\", selected_features)"
   ]
  },
  {
   "cell_type": "code",
   "execution_count": null,
   "id": "369c0a3b-bd49-4be2-82c8-a47490c5293f",
   "metadata": {
    "tags": []
   },
   "outputs": [],
   "source": []
  },
  {
   "cell_type": "raw",
   "id": "2b45ea1c-42a3-4c9e-b775-1f3be75cb5a0",
   "metadata": {},
   "source": [
    "Dataset Resource:\n",
    "    https://www.kaggle.com/datasets/brendan45774/test-file"
   ]
  },
  {
   "cell_type": "code",
   "execution_count": null,
   "id": "41fca068-3c0c-4d75-9ec6-5c267eb67c2e",
   "metadata": {},
   "outputs": [],
   "source": []
  },
  {
   "cell_type": "code",
   "execution_count": null,
   "id": "61c572c7-eacc-42dd-8ad3-35f0ab3ab39a",
   "metadata": {},
   "outputs": [],
   "source": []
  }
 ],
 "metadata": {
  "kernelspec": {
   "display_name": "Python 3 (ipykernel)",
   "language": "python",
   "name": "python3"
  },
  "language_info": {
   "codemirror_mode": {
    "name": "ipython",
    "version": 3
   },
   "file_extension": ".py",
   "mimetype": "text/x-python",
   "name": "python",
   "nbconvert_exporter": "python",
   "pygments_lexer": "ipython3",
   "version": "3.11.3"
  }
 },
 "nbformat": 4,
 "nbformat_minor": 5
}
